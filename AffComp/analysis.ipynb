{
 "cells": [
  {
   "cell_type": "markdown",
   "metadata": {},
   "source": [
    "# Analysis 1 - Metrics Correlations"
   ]
  },
  {
   "cell_type": "code",
   "execution_count": 10,
   "metadata": {},
   "outputs": [
    {
     "data": {
      "text/html": [
       "<div>\n",
       "<style scoped>\n",
       "    .dataframe tbody tr th:only-of-type {\n",
       "        vertical-align: middle;\n",
       "    }\n",
       "\n",
       "    .dataframe tbody tr th {\n",
       "        vertical-align: top;\n",
       "    }\n",
       "\n",
       "    .dataframe thead th {\n",
       "        text-align: right;\n",
       "    }\n",
       "</style>\n",
       "<table border=\"1\" class=\"dataframe\">\n",
       "  <thead>\n",
       "    <tr style=\"text-align: right;\">\n",
       "      <th></th>\n",
       "      <th>Unnamed: 0</th>\n",
       "      <th>segment_id</th>\n",
       "      <th>segment_avg_logprob</th>\n",
       "      <th>segment_compression_ratio</th>\n",
       "      <th>segment_no_speech_prob</th>\n",
       "      <th>seek</th>\n",
       "      <th>start</th>\n",
       "      <th>end</th>\n",
       "      <th>temperature</th>\n",
       "      <th>text</th>\n",
       "      <th>tokens</th>\n",
       "      <th>nltk_opinion_lexicon_positive</th>\n",
       "      <th>nltk_opinion_lexicon_negative</th>\n",
       "      <th>nltk_opinion_lexicon_net</th>\n",
       "      <th>vader_neg</th>\n",
       "      <th>vader_neu</th>\n",
       "      <th>vader_pos</th>\n",
       "      <th>vader_compound</th>\n",
       "    </tr>\n",
       "  </thead>\n",
       "  <tbody>\n",
       "    <tr>\n",
       "      <th>0</th>\n",
       "      <td>0</td>\n",
       "      <td>0</td>\n",
       "      <td>-0.261265</td>\n",
       "      <td>1.634259</td>\n",
       "      <td>0.021252</td>\n",
       "      <td>0</td>\n",
       "      <td>0.000000</td>\n",
       "      <td>5.160000</td>\n",
       "      <td>0.0</td>\n",
       "      <td>I wanted to say a few words about our preside...</td>\n",
       "      <td>[50364, 286, 1415, 281, 584, 257, 1326, 2283, ...</td>\n",
       "      <td>0.0625</td>\n",
       "      <td>0.0</td>\n",
       "      <td>0.0625</td>\n",
       "      <td>0.000</td>\n",
       "      <td>1.000</td>\n",
       "      <td>0.00</td>\n",
       "      <td>0.0000</td>\n",
       "    </tr>\n",
       "    <tr>\n",
       "      <th>1</th>\n",
       "      <td>1</td>\n",
       "      <td>1</td>\n",
       "      <td>-0.261265</td>\n",
       "      <td>1.634259</td>\n",
       "      <td>0.021252</td>\n",
       "      <td>0</td>\n",
       "      <td>5.160000</td>\n",
       "      <td>13.400000</td>\n",
       "      <td>0.0</td>\n",
       "      <td>the past three years is unmatched in modern h...</td>\n",
       "      <td>[50622, 264, 1791, 1045, 924, 307, 19334, 2410...</td>\n",
       "      <td>0.1250</td>\n",
       "      <td>0.0</td>\n",
       "      <td>0.1250</td>\n",
       "      <td>0.072</td>\n",
       "      <td>0.778</td>\n",
       "      <td>0.15</td>\n",
       "      <td>0.3400</td>\n",
       "    </tr>\n",
       "    <tr>\n",
       "      <th>2</th>\n",
       "      <td>2</td>\n",
       "      <td>2</td>\n",
       "      <td>-0.261265</td>\n",
       "      <td>1.634259</td>\n",
       "      <td>0.021252</td>\n",
       "      <td>0</td>\n",
       "      <td>13.400000</td>\n",
       "      <td>24.080000</td>\n",
       "      <td>0.0</td>\n",
       "      <td>you may clap. In one term, he has already sur...</td>\n",
       "      <td>[51034, 291, 815, 20760, 13, 682, 472, 1433, 1...</td>\n",
       "      <td>0.0000</td>\n",
       "      <td>0.0</td>\n",
       "      <td>0.0000</td>\n",
       "      <td>0.000</td>\n",
       "      <td>1.000</td>\n",
       "      <td>0.00</td>\n",
       "      <td>0.0000</td>\n",
       "    </tr>\n",
       "    <tr>\n",
       "      <th>3</th>\n",
       "      <td>3</td>\n",
       "      <td>3</td>\n",
       "      <td>-0.261265</td>\n",
       "      <td>1.634259</td>\n",
       "      <td>0.021252</td>\n",
       "      <td>0</td>\n",
       "      <td>24.080000</td>\n",
       "      <td>29.600000</td>\n",
       "      <td>0.0</td>\n",
       "      <td>have served two terms in office. And I first ...</td>\n",
       "      <td>[51568, 362, 7584, 732, 2115, 294, 3398, 13, 4...</td>\n",
       "      <td>0.0000</td>\n",
       "      <td>0.0</td>\n",
       "      <td>0.0000</td>\n",
       "      <td>0.000</td>\n",
       "      <td>1.000</td>\n",
       "      <td>0.00</td>\n",
       "      <td>0.0000</td>\n",
       "    </tr>\n",
       "    <tr>\n",
       "      <th>4</th>\n",
       "      <td>4</td>\n",
       "      <td>4</td>\n",
       "      <td>-0.225072</td>\n",
       "      <td>1.635417</td>\n",
       "      <td>0.000309</td>\n",
       "      <td>2960</td>\n",
       "      <td>29.600000</td>\n",
       "      <td>35.520000</td>\n",
       "      <td>0.0</td>\n",
       "      <td>Beau. We worked together as attorneys general...</td>\n",
       "      <td>[50364, 43702, 13, 492, 2732, 1214, 382, 30019...</td>\n",
       "      <td>0.0625</td>\n",
       "      <td>0.0</td>\n",
       "      <td>0.0625</td>\n",
       "      <td>0.000</td>\n",
       "      <td>1.000</td>\n",
       "      <td>0.00</td>\n",
       "      <td>0.0000</td>\n",
       "    </tr>\n",
       "    <tr>\n",
       "      <th>5</th>\n",
       "      <td>5</td>\n",
       "      <td>5</td>\n",
       "      <td>-0.225072</td>\n",
       "      <td>1.635417</td>\n",
       "      <td>0.000309</td>\n",
       "      <td>2960</td>\n",
       "      <td>35.520000</td>\n",
       "      <td>43.119999</td>\n",
       "      <td>0.0</td>\n",
       "      <td>tell me stories about his dad. He would talk ...</td>\n",
       "      <td>[50660, 980, 385, 3676, 466, 702, 3546, 13, 63...</td>\n",
       "      <td>0.0000</td>\n",
       "      <td>0.0</td>\n",
       "      <td>0.0000</td>\n",
       "      <td>0.000</td>\n",
       "      <td>1.000</td>\n",
       "      <td>0.00</td>\n",
       "      <td>0.0000</td>\n",
       "    </tr>\n",
       "    <tr>\n",
       "      <th>6</th>\n",
       "      <td>6</td>\n",
       "      <td>6</td>\n",
       "      <td>-0.225072</td>\n",
       "      <td>1.635417</td>\n",
       "      <td>0.000309</td>\n",
       "      <td>2960</td>\n",
       "      <td>43.119999</td>\n",
       "      <td>50.560001</td>\n",
       "      <td>0.0</td>\n",
       "      <td>that Joe Biden is. The qualities that Beau re...</td>\n",
       "      <td>[51040, 300, 6807, 9877, 307, 13, 440, 16477, ...</td>\n",
       "      <td>0.0000</td>\n",
       "      <td>0.0</td>\n",
       "      <td>0.0000</td>\n",
       "      <td>0.000</td>\n",
       "      <td>0.820</td>\n",
       "      <td>0.18</td>\n",
       "      <td>0.5106</td>\n",
       "    </tr>\n",
       "    <tr>\n",
       "      <th>7</th>\n",
       "      <td>7</td>\n",
       "      <td>7</td>\n",
       "      <td>-0.225072</td>\n",
       "      <td>1.635417</td>\n",
       "      <td>0.000309</td>\n",
       "      <td>2960</td>\n",
       "      <td>50.560001</td>\n",
       "      <td>53.840000</td>\n",
       "      <td>0.0</td>\n",
       "      <td>that I have seen every day in our president.</td>\n",
       "      <td>[51412, 300, 286, 362, 1612, 633, 786, 294, 52...</td>\n",
       "      <td>0.0000</td>\n",
       "      <td>0.0</td>\n",
       "      <td>0.0000</td>\n",
       "      <td>0.000</td>\n",
       "      <td>1.000</td>\n",
       "      <td>0.00</td>\n",
       "      <td>0.0000</td>\n",
       "    </tr>\n",
       "  </tbody>\n",
       "</table>\n",
       "</div>"
      ],
      "text/plain": [
       "   Unnamed: 0  segment_id  segment_avg_logprob  segment_compression_ratio  \\\n",
       "0           0           0            -0.261265                   1.634259   \n",
       "1           1           1            -0.261265                   1.634259   \n",
       "2           2           2            -0.261265                   1.634259   \n",
       "3           3           3            -0.261265                   1.634259   \n",
       "4           4           4            -0.225072                   1.635417   \n",
       "5           5           5            -0.225072                   1.635417   \n",
       "6           6           6            -0.225072                   1.635417   \n",
       "7           7           7            -0.225072                   1.635417   \n",
       "\n",
       "   segment_no_speech_prob  seek      start        end  temperature  \\\n",
       "0                0.021252     0   0.000000   5.160000          0.0   \n",
       "1                0.021252     0   5.160000  13.400000          0.0   \n",
       "2                0.021252     0  13.400000  24.080000          0.0   \n",
       "3                0.021252     0  24.080000  29.600000          0.0   \n",
       "4                0.000309  2960  29.600000  35.520000          0.0   \n",
       "5                0.000309  2960  35.520000  43.119999          0.0   \n",
       "6                0.000309  2960  43.119999  50.560001          0.0   \n",
       "7                0.000309  2960  50.560001  53.840000          0.0   \n",
       "\n",
       "                                                text  \\\n",
       "0   I wanted to say a few words about our preside...   \n",
       "1   the past three years is unmatched in modern h...   \n",
       "2   you may clap. In one term, he has already sur...   \n",
       "3   have served two terms in office. And I first ...   \n",
       "4   Beau. We worked together as attorneys general...   \n",
       "5   tell me stories about his dad. He would talk ...   \n",
       "6   that Joe Biden is. The qualities that Beau re...   \n",
       "7       that I have seen every day in our president.   \n",
       "\n",
       "                                              tokens  \\\n",
       "0  [50364, 286, 1415, 281, 584, 257, 1326, 2283, ...   \n",
       "1  [50622, 264, 1791, 1045, 924, 307, 19334, 2410...   \n",
       "2  [51034, 291, 815, 20760, 13, 682, 472, 1433, 1...   \n",
       "3  [51568, 362, 7584, 732, 2115, 294, 3398, 13, 4...   \n",
       "4  [50364, 43702, 13, 492, 2732, 1214, 382, 30019...   \n",
       "5  [50660, 980, 385, 3676, 466, 702, 3546, 13, 63...   \n",
       "6  [51040, 300, 6807, 9877, 307, 13, 440, 16477, ...   \n",
       "7  [51412, 300, 286, 362, 1612, 633, 786, 294, 52...   \n",
       "\n",
       "   nltk_opinion_lexicon_positive  nltk_opinion_lexicon_negative  \\\n",
       "0                         0.0625                            0.0   \n",
       "1                         0.1250                            0.0   \n",
       "2                         0.0000                            0.0   \n",
       "3                         0.0000                            0.0   \n",
       "4                         0.0625                            0.0   \n",
       "5                         0.0000                            0.0   \n",
       "6                         0.0000                            0.0   \n",
       "7                         0.0000                            0.0   \n",
       "\n",
       "   nltk_opinion_lexicon_net  vader_neg  vader_neu  vader_pos  vader_compound  \n",
       "0                    0.0625      0.000      1.000       0.00          0.0000  \n",
       "1                    0.1250      0.072      0.778       0.15          0.3400  \n",
       "2                    0.0000      0.000      1.000       0.00          0.0000  \n",
       "3                    0.0000      0.000      1.000       0.00          0.0000  \n",
       "4                    0.0625      0.000      1.000       0.00          0.0000  \n",
       "5                    0.0000      0.000      1.000       0.00          0.0000  \n",
       "6                    0.0000      0.000      0.820       0.18          0.5106  \n",
       "7                    0.0000      0.000      1.000       0.00          0.0000  "
      ]
     },
     "execution_count": 10,
     "metadata": {},
     "output_type": "execute_result"
    }
   ],
   "source": [
    "import pandas as pd\n",
    "# public/packages/kamala_harris_praises_biden_s_legacy_saying_it_s_unmatched_in_modern_history_shorts/transcription_result.csv\n",
    "# public/packages/kamala_harris_says_she_s_ready_to_debate_trump_shorts/transcription_result.csv\n",
    "df = pd.read_csv(\"public/packages/kamala_harris_praises_biden_s_legacy_saying_it_s_unmatched_in_modern_history_shorts/transcription_result.csv\")\n",
    "df"
   ]
  },
  {
   "cell_type": "code",
   "execution_count": 11,
   "metadata": {},
   "outputs": [],
   "source": [
    "def compute_z_scores_and_correlations(df, columns):\n",
    "    for column in columns:\n",
    "        df[f'{column}_z'] = (df[column] - df[column].mean()) / df[column].std()\n",
    "        \n",
    "    z_columns = [f'{col}_z' for col in columns]\n",
    "    correlation_matrix = df[z_columns].corr()\n",
    "    return df, correlation_matrix"
   ]
  },
  {
   "cell_type": "code",
   "execution_count": 12,
   "metadata": {},
   "outputs": [],
   "source": [
    "metrics = ['nltk_opinion_lexicon_net', 'vader_neg', \n",
    "           'vader_neu', 'vader_pos', 'vader_compound','openai_mean_sentiment']\n",
    "\n",
    "df, correlation_matrix = compute_z_scores_and_correlations(df, metrics)"
   ]
  },
  {
   "cell_type": "code",
   "execution_count": 13,
   "metadata": {},
   "outputs": [],
   "source": [
    "# Create network plot using corrplot\n",
    "import matplotlib.pyplot as plt\n",
    "import seaborn as sns"
   ]
  },
  {
   "cell_type": "code",
   "execution_count": 14,
   "metadata": {},
   "outputs": [
    {
     "data": {
      "image/png": "[encoded data removed]",
      "text/plain": [
       "<Figure size 1000x800 with 2 Axes>"
      ]
     },
     "metadata": {},
     "output_type": "display_data"
    },
    {
     "data": {
      "text/plain": [
       "<Figure size 640x480 with 0 Axes>"
      ]
     },
     "metadata": {},
     "output_type": "display_data"
    }
   ],
   "source": [
    "plt.figure(figsize=(10, 8))\n",
    "sns.heatmap(correlation_matrix, annot=True, cmap='coolwarm', center=0)\n",
    "plt.title('Correlation Matrix of Sentiment Measures')\n",
    "plt.show()\n",
    "\n",
    "# Save high-resolution correlation matrix plot\n",
    "plt.savefig(\"correlation_matrix.png\", dpi=300)\n",
    "\n",
    "# Save corrplot\n",
    "plt.savefig(\"correlation_matrix_corrplot.png\", dpi=300)"
   ]
  },
  {
   "cell_type": "markdown",
   "metadata": {},
   "source": [
    "# Analysis 2: Semantic Data Analysis"
   ]
  },
  {
   "cell_type": "code",
   "execution_count": 16,
   "metadata": {},
   "outputs": [
    {
     "data": {
      "text/plain": [
       "0     I wanted to say a few words about our preside...\n",
       "1     the past three years is unmatched in modern h...\n",
       "2     you may clap. In one term, he has already sur...\n",
       "3     have served two terms in office. And I first ...\n",
       "4     Beau. We worked together as attorneys general...\n",
       "5     tell me stories about his dad. He would talk ...\n",
       "6     that Joe Biden is. The qualities that Beau re...\n",
       "7         that I have seen every day in our president.\n",
       "Name: text, dtype: object"
      ]
     },
     "execution_count": 16,
     "metadata": {},
     "output_type": "execute_result"
    }
   ],
   "source": [
    "df['text']"
   ]
  },
  {
   "cell_type": "code",
   "execution_count": 18,
   "metadata": {},
   "outputs": [
    {
     "ename": "AttributeError",
     "evalue": "'Series' object has no attribute 'iterrows'",
     "output_type": "error",
     "traceback": [
      "\u001b[0;31m---------------------------------------------------------------------------\u001b[0m",
      "\u001b[0;31mAttributeError\u001b[0m                            Traceback (most recent call last)",
      "\u001b[0;32m/var/folders/nc/g1m7qlxd28nc60lgd8z9wncm0000gn/T/ipykernel_1246/446869531.py\u001b[0m in \u001b[0;36m?\u001b[0;34m()\u001b[0m\n\u001b[0;32m---> 45\u001b[0;31m \u001b[0;32mimport\u001b[0m \u001b[0mjson\u001b[0m\u001b[0;34m\u001b[0m\u001b[0;34m\u001b[0m\u001b[0m\n\u001b[0m\u001b[1;32m     46\u001b[0m \u001b[0;32mimport\u001b[0m \u001b[0mpandas\u001b[0m \u001b[0;32mas\u001b[0m \u001b[0mpd\u001b[0m\u001b[0;34m\u001b[0m\u001b[0;34m\u001b[0m\u001b[0m\n\u001b[1;32m     47\u001b[0m \u001b[0;32mfrom\u001b[0m \u001b[0mopenai\u001b[0m \u001b[0;32mimport\u001b[0m \u001b[0mOpenAI\u001b[0m\u001b[0;34m\u001b[0m\u001b[0;34m\u001b[0m\u001b[0m\n\u001b[1;32m     48\u001b[0m \u001b[0;32mfrom\u001b[0m \u001b[0mtqdm\u001b[0m \u001b[0;32mimport\u001b[0m \u001b[0mtqdm\u001b[0m\u001b[0;34m\u001b[0m\u001b[0;34m\u001b[0m\u001b[0m\n",
      "\u001b[0;32m/var/folders/nc/g1m7qlxd28nc60lgd8z9wncm0000gn/T/ipykernel_1246/446869531.py\u001b[0m in \u001b[0;36m?\u001b[0;34m(df)\u001b[0m\n\u001b[1;32m     36\u001b[0m \u001b[0;32mdef\u001b[0m \u001b[0mapply_sentiment_analysis\u001b[0m\u001b[0;34m(\u001b[0m\u001b[0mdf\u001b[0m\u001b[0;34m)\u001b[0m\u001b[0;34m:\u001b[0m\u001b[0;34m\u001b[0m\u001b[0;34m\u001b[0m\u001b[0m\n\u001b[1;32m     37\u001b[0m     \u001b[0mresults\u001b[0m \u001b[0;34m=\u001b[0m \u001b[0;34m[\u001b[0m\u001b[0;34m]\u001b[0m\u001b[0;34m\u001b[0m\u001b[0;34m\u001b[0m\u001b[0m\n\u001b[0;32m---> 38\u001b[0;31m     \u001b[0;32mfor\u001b[0m \u001b[0m_\u001b[0m\u001b[0;34m,\u001b[0m \u001b[0mrow\u001b[0m \u001b[0;32min\u001b[0m \u001b[0mtqdm\u001b[0m\u001b[0;34m(\u001b[0m\u001b[0mdf\u001b[0m\u001b[0;34m.\u001b[0m\u001b[0miterrows\u001b[0m\u001b[0;34m(\u001b[0m\u001b[0;34m)\u001b[0m\u001b[0;34m,\u001b[0m \u001b[0mtotal\u001b[0m\u001b[0;34m=\u001b[0m\u001b[0mdf\u001b[0m\u001b[0;34m.\u001b[0m\u001b[0mshape\u001b[0m\u001b[0;34m[\u001b[0m\u001b[0;36m0\u001b[0m\u001b[0;34m]\u001b[0m\u001b[0;34m,\u001b[0m \u001b[0mdesc\u001b[0m\u001b[0;34m=\u001b[0m\u001b[0;34m\"Processing\"\u001b[0m\u001b[0;34m)\u001b[0m\u001b[0;34m:\u001b[0m\u001b[0;34m\u001b[0m\u001b[0;34m\u001b[0m\u001b[0m\n\u001b[0m\u001b[1;32m     39\u001b[0m         \u001b[0msentiment\u001b[0m \u001b[0;34m=\u001b[0m \u001b[0mget_sentiment\u001b[0m\u001b[0;34m(\u001b[0m\u001b[0mrow\u001b[0m\u001b[0;34m[\u001b[0m\u001b[0;34m'text'\u001b[0m\u001b[0;34m]\u001b[0m\u001b[0;34m)\u001b[0m\u001b[0;34m\u001b[0m\u001b[0;34m\u001b[0m\u001b[0m\n\u001b[1;32m     40\u001b[0m         \u001b[0mresults\u001b[0m\u001b[0;34m.\u001b[0m\u001b[0mappend\u001b[0m\u001b[0;34m(\u001b[0m\u001b[0msentiment\u001b[0m\u001b[0;34m)\u001b[0m\u001b[0;34m\u001b[0m\u001b[0;34m\u001b[0m\u001b[0m\n\u001b[1;32m     41\u001b[0m         \u001b[0mtime\u001b[0m\u001b[0;34m.\u001b[0m\u001b[0msleep\u001b[0m\u001b[0;34m(\u001b[0m\u001b[0;36m1\u001b[0m\u001b[0;34m)\u001b[0m  \u001b[0;31m# Rate limiting: wait 1 second between requests\u001b[0m\u001b[0;34m\u001b[0m\u001b[0;34m\u001b[0m\u001b[0m\n",
      "\u001b[0;32m~/Library/Python/3.9/lib/python/site-packages/pandas/core/generic.py\u001b[0m in \u001b[0;36m?\u001b[0;34m(self, name)\u001b[0m\n\u001b[1;32m   6200\u001b[0m             \u001b[0;32mand\u001b[0m \u001b[0mname\u001b[0m \u001b[0;32mnot\u001b[0m \u001b[0;32min\u001b[0m \u001b[0mself\u001b[0m\u001b[0;34m.\u001b[0m\u001b[0m_accessors\u001b[0m\u001b[0;34m\u001b[0m\u001b[0;34m\u001b[0m\u001b[0m\n\u001b[1;32m   6201\u001b[0m             \u001b[0;32mand\u001b[0m \u001b[0mself\u001b[0m\u001b[0;34m.\u001b[0m\u001b[0m_info_axis\u001b[0m\u001b[0;34m.\u001b[0m\u001b[0m_can_hold_identifiers_and_holds_name\u001b[0m\u001b[0;34m(\u001b[0m\u001b[0mname\u001b[0m\u001b[0;34m)\u001b[0m\u001b[0;34m\u001b[0m\u001b[0;34m\u001b[0m\u001b[0m\n\u001b[1;32m   6202\u001b[0m         ):\n\u001b[1;32m   6203\u001b[0m             \u001b[0;32mreturn\u001b[0m \u001b[0mself\u001b[0m\u001b[0;34m[\u001b[0m\u001b[0mname\u001b[0m\u001b[0;34m]\u001b[0m\u001b[0;34m\u001b[0m\u001b[0;34m\u001b[0m\u001b[0m\n\u001b[0;32m-> 6204\u001b[0;31m         \u001b[0;32mreturn\u001b[0m \u001b[0mobject\u001b[0m\u001b[0;34m.\u001b[0m\u001b[0m__getattribute__\u001b[0m\u001b[0;34m(\u001b[0m\u001b[0mself\u001b[0m\u001b[0;34m,\u001b[0m \u001b[0mname\u001b[0m\u001b[0;34m)\u001b[0m\u001b[0;34m\u001b[0m\u001b[0;34m\u001b[0m\u001b[0m\n\u001b[0m",
      "\u001b[0;31mAttributeError\u001b[0m: 'Series' object has no attribute 'iterrows'"
     ]
    }
   ],
   "source": [
    "# import json\n",
    "# import pandas as pd\n",
    "# from openai import OpenAI\n",
    "# from tqdm import tqdm\n",
    "# import time\n",
    "\n",
    "# # Set up OpenAI client\n",
    "# api_key = \"sk-proj-4LbQ2lqaXi5zLWAjZIp5T3BlbkFJkMGFDil8L6yKmTvqTIDO\"  # Replace with your actual OpenAI API key\n",
    "# client = OpenAI(api_key=api_key)\n",
    "# def get_sentiment(text):\n",
    "#     try:\n",
    "#         response = client.chat.completions.create(\n",
    "#             model=\"gpt-3.5-turbo\",\n",
    "#             messages=[\n",
    "#                 {\"role\": \"system\", \"content\": \"You are an assistant that only responds in valid JSON format. Your task is to provide sentiment analysis and present the results, model into a specific JSON structure.\"},\n",
    "#                 {\"role\": \"user\", \"content\": f\"Help me to get the sentiment analysis of the text from 1-10 into JSON files without any ''' json ''' that is not in the string format, where the text is stored in a variable called text: {text}\"}\n",
    "#             ]\n",
    "#         )\n",
    "\n",
    "#         # Parse the JSON content\n",
    "#         sentiment_data = json.loads(response) # .choices[0].message.content\n",
    "#         return sentiment_data\n",
    "\n",
    "#     except Exception as e:\n",
    "#         print(f\"Error processing text: {text[:50]}... Error: {str(e)}\")\n",
    "#         return None\n",
    "\n",
    "# # Function to apply sentiment analysis with rate limiting\n",
    "# def apply_sentiment_analysis(df):\n",
    "#     results = []\n",
    "#     for _, row in tqdm(df.iterrows(), total=df.shape[0], desc=\"Processing\"):\n",
    "#         sentiment = get_sentiment(row['text'])\n",
    "#         results.append(sentiment)\n",
    "#         time.sleep(1)  # Rate limiting: wait 1 second between requests\n",
    "#     return results\n",
    "\n",
    "# # Apply the sentiment analysis\n",
    "# df['sentiment'] = apply_sentiment_analysis(df['text'])\n",
    "# # Display the results\n",
    "# df['sentiment'] "
   ]
  },
  {
   "cell_type": "code",
   "execution_count": 19,
   "metadata": {},
   "outputs": [
    {
     "name": "stderr",
     "output_type": "stream",
     "text": [
      "Processing: 100%|██████████| 8/8 [00:17<00:00,  2.24s/it]\n"
     ]
    },
    {
     "data": {
      "text/plain": [
       "0    {'sentiment_analysis': {'text': 'I wanted to s...\n",
       "1    {'sentiment_analysis': {'text': 'the past thre...\n",
       "2    {'sentiment_analysis': {'text': 'you may clap....\n",
       "3    {'sentiment_analysis': {'text': 'I have served...\n",
       "4    {'sentiment_analysis': {'text': 'Beau. We work...\n",
       "5    {'sentiment_analysis': {'text': 'tell me stori...\n",
       "6    {'sentiment_analysis': {'text': 'that Joe Bide...\n",
       "7    {'sentiment_analysis': {'text': 'that I have s...\n",
       "Name: sentiment, dtype: object"
      ]
     },
     "execution_count": 19,
     "metadata": {},
     "output_type": "execute_result"
    }
   ],
   "source": [
    "import json\n",
    "import pandas as pd\n",
    "from openai import OpenAI\n",
    "from tqdm import tqdm\n",
    "import time\n",
    "\n",
    "# Set up OpenAI client\n",
    "api_key = \"sk-proj-4LbQ2lqaXi5zLWAjZIp5T3BlbkFJkMGFDil8L6yKmTvqTIDO\"  # Replace with your actual OpenAI API key\n",
    "client = OpenAI(api_key=api_key)\n",
    "\n",
    "def get_sentiment(text):\n",
    "    try:\n",
    "        response = client.chat.completions.create(\n",
    "            model=\"gpt-3.5-turbo\",\n",
    "            messages=[\n",
    "                {\"role\": \"system\", \"content\": \"You are an assistant that only responds in valid JSON format. Your task is to provide sentiment analysis and present the results, model into a specific JSON structure.\"},\n",
    "                {\"role\": \"user\", \"content\": f\"Help me to get the sentiment analysis of the text from 1-10 into JSON files without any ''' json ''' that is not in the string format, where the text is stored in a variable called text: {text}\"}\n",
    "            ]\n",
    "        )\n",
    "\n",
    "        # Extract the content from the response\n",
    "        content = response.choices[0].message.content\n",
    "\n",
    "        # Parse the JSON content\n",
    "        sentiment_data = json.loads(content)\n",
    "        return sentiment_data\n",
    "\n",
    "    except Exception as e:\n",
    "        print(f\"Error processing text: {text[:50]}... Error: {str(e)}\")\n",
    "        return None\n",
    "\n",
    "# Function to apply sentiment analysis with rate limiting\n",
    "def apply_sentiment_analysis(df):\n",
    "    results = []\n",
    "    for _, row in tqdm(df.iterrows(), total=df.shape[0], desc=\"Processing\"):\n",
    "        sentiment = get_sentiment(row['text'])\n",
    "        results.append(sentiment)\n",
    "        time.sleep(1)  # Rate limiting: wait 1 second between requests\n",
    "    return results\n",
    "\n",
    "# Assuming df is your DataFrame with a 'text' column\n",
    "# Apply the sentiment analysis\n",
    "df['sentiment'] = apply_sentiment_analysis(df)\n",
    "\n",
    "# Display the results\n",
    "df['sentiment']"
   ]
  },
  {
   "cell_type": "code",
   "execution_count": 37,
   "metadata": {},
   "outputs": [
    {
     "name": "stdout",
     "output_type": "stream",
     "text": [
      "7\n",
      "9.2\n",
      "7\n",
      "7\n",
      "8\n",
      "7\n",
      "7.5\n",
      "3\n"
     ]
    }
   ],
   "source": [
    "for i in range(len(df)):\n",
    "    output = df['sentiment'][i]['sentiment_analysis']['sentiment_score']\n",
    "    print(output)"
   ]
  },
  {
   "cell_type": "code",
   "execution_count": 38,
   "metadata": {},
   "outputs": [
    {
     "name": "stderr",
     "output_type": "stream",
     "text": [
      "Processing: 100%|██████████| 8/8 [01:35<00:00, 11.97s/it]"
     ]
    },
    {
     "name": "stdout",
     "output_type": "stream",
     "text": [
      "0    [{'sentiment_analysis': {'text': 'I wanted to ...\n",
      "1    [{'sentiment_analysis': {'text': 'the past thr...\n",
      "2    [{'sentiment_analysis': {'text': 'you may clap...\n",
      "3    [{'sentiment_analysis': {'text': 'I have serve...\n",
      "4    [{'sentiment_analysis': {'text': 'Beau. We wor...\n",
      "5    [{'sentiment_analysis': {'text': 'tell me stor...\n",
      "6    [{'sentiment_analysis': {'text': 'that Joe Bid...\n",
      "7    [{'sentiment_analysis': {'text': 'that I have ...\n",
      "Name: sentiment_iterate, dtype: object\n"
     ]
    },
    {
     "name": "stderr",
     "output_type": "stream",
     "text": [
      "\n"
     ]
    }
   ],
   "source": [
    "import json\n",
    "import pandas as pd\n",
    "from openai import OpenAI\n",
    "from tqdm import tqdm\n",
    "import time\n",
    "\n",
    "# Set up OpenAI client\n",
    "api_key = \"sk-proj-4LbQ2lqaXi5zLWAjZIp5T3BlbkFJkMGFDil8L6yKmTvqTIDO\"  # Replace with your actual OpenAI API key\n",
    "client = OpenAI(api_key=api_key)\n",
    "\n",
    "def get_sentiment(text):\n",
    "    try:\n",
    "        response = client.chat.completions.create(\n",
    "            model=\"gpt-3.5-turbo\",\n",
    "            messages=[\n",
    "                {\"role\": \"system\", \"content\": \"You are an assistant that only responds in valid JSON format. Your task is to provide sentiment analysis and present the results, model into a specific JSON structure.\"},\n",
    "                {\"role\": \"user\", \"content\": f\"Help me to get the sentiment analysis of the text from 1-10 into JSON files without any ''' json ''' that is not in the string format, where the text is stored in a variable called text: {text}\"}\n",
    "            ]\n",
    "        )\n",
    "\n",
    "        # Extract the content from the response\n",
    "        content = response.choices[0].message.content\n",
    "\n",
    "        # Parse the JSON content\n",
    "        sentiment_data = json.loads(content)\n",
    "        return sentiment_data\n",
    "\n",
    "    except Exception as e:\n",
    "        print(f\"Error processing text: {text[:50]}... Error: {str(e)}\")\n",
    "        return None\n",
    "\n",
    "# Function to apply sentiment analysis with rate limiting and iteration\n",
    "def apply_sentiment_analysis(df):\n",
    "    results = []\n",
    "    for _, row in tqdm(df.iterrows(), total=df.shape[0], desc=\"Processing\"):\n",
    "        sentiment_list = []\n",
    "        for _ in range(5):  # Iterate 5 times for each text\n",
    "            sentiment = get_sentiment(row['text'])\n",
    "            sentiment_list.append(sentiment)\n",
    "            time.sleep(1)  # Rate limiting: wait 1 second between requests\n",
    "        results.append(sentiment_list)\n",
    "    return results\n",
    "\n",
    "# # Function to apply sentiment analysis with rate limiting and iteration\n",
    "# def apply_sentiment_analysis(df):\n",
    "#     results = []\n",
    "#     for _, row in tqdm(df.iterrows(), total=df.shape[0], desc=\"Processing\"):\n",
    "#         sentiment_list = []\n",
    "#         for _ in range(5):  # Iterate 5 times for each text\n",
    "#             sentiment = get_sentiment(row['text'])\n",
    "#             sentiment_list.append(sentiment)\n",
    "#             time.sleep(1)  # Rate limiting: wait 1 second between requests\n",
    "#         results.append(sentiment_list)\n",
    "#     return results\n",
    "\n",
    "# Function to apply sentiment analysis with rate limiting and iteration\n",
    "def apply_sentiment_analysis(df):\n",
    "    results = []\n",
    "    for _, row in tqdm(df.iterrows(), total=df.shape[0], desc=\"Processing\"):\n",
    "        sentiment_list = []\n",
    "        for _ in range(5):  # Iterate 5 times for each text\n",
    "            sentiment = get_sentiment(row['text'])\n",
    "            sentiment_list.append(sentiment)\n",
    "            time.sleep(1)  # Rate limiting: wait 1 second between requests\n",
    "        results.append(sentiment_list)\n",
    "    return results\n",
    "\n",
    "# Assuming df is your DataFrame with a 'text' column\n",
    "# Apply the sentiment analysis\n",
    "df['sentiment_iterate'] = apply_sentiment_analysis(df)\n",
    "\n",
    "# Display the results\n",
    "print(df['sentiment_iterate'])"
   ]
  },
  {
   "cell_type": "code",
   "execution_count": 39,
   "metadata": {},
   "outputs": [
    {
     "data": {
      "text/plain": [
       "[{'sentiment_analysis': {'text': \"I wanted to say a few words about our president. Joe Biden's legacy of accomplishment over\",\n",
       "   'sentiment_score': 7}},\n",
       " {'sentiment_analysis': {'text': \"I wanted to say a few words about our president. Joe Biden's legacy of accomplishment over\",\n",
       "   'sentiment_score': 7}},\n",
       " {'sentiment_analysis': {'text': \"I wanted to say a few words about our president. Joe Biden's legacy of accomplishment over\",\n",
       "   'sentiment_score': 7}},\n",
       " {'sentiment_analysis': {'text': \"I wanted to say a few words about our president. Joe Biden's legacy of accomplishment\",\n",
       "   'sentiment_score': 7.5,\n",
       "   'sentiment': 'Positive'}},\n",
       " {'sentiment_analysis': {'text': \"I wanted to say a few words about our president. Joe Biden's legacy of accomplishment over\",\n",
       "   'sentiment_score': 7}}]"
      ]
     },
     "execution_count": 39,
     "metadata": {},
     "output_type": "execute_result"
    }
   ],
   "source": [
    "df['sentiment_iterate'][0]"
   ]
  },
  {
   "cell_type": "code",
   "execution_count": 54,
   "metadata": {},
   "outputs": [
    {
     "name": "stdout",
     "output_type": "stream",
     "text": [
      "[7, 7, 7, 7.5, 7]\n"
     ]
    },
    {
     "data": {
      "text/plain": [
       "0        [7, 7, 7, 7.5, 7]\n",
       "1          [9, 9, 9, 9, 9]\n",
       "2          [7, 8, 8, 8, 7]\n",
       "3    [5.4, 7, 4.5, 7, 7.5]\n",
       "4        [8, 7, 7.0, 7, 7]\n",
       "5        [8, 7.5, 6, 6, 7]\n",
       "6        [8, 7.5, 8, 7, 7]\n",
       "7    [3.5, 1, 4.5, 3, 3.2]\n",
       "Name: sentiment_scores, dtype: object"
      ]
     },
     "execution_count": 54,
     "metadata": {},
     "output_type": "execute_result"
    }
   ],
   "source": [
    "# def extract_sentiment_scores(sentiment_list):\n",
    "#     return [item['sentiment_analysis']['sentiment_score'] for item in sentiment_list if 'sentiment_analysis' in item and 'sentiment_score' in item['sentiment_analysis']]\n",
    "\n",
    "def extract_sentiment_scores(sentiment_list):\n",
    "    scores = []\n",
    "    for item in sentiment_list:\n",
    "        if 'sentiment_analysis' in item and 'sentiment_score' in item['sentiment_analysis']:\n",
    "            scores.append(item['sentiment_analysis']['sentiment_score'])\n",
    "        elif 'sentiment' in item and 'sentiment_score' in item['sentiment']:\n",
    "            scores.append(item['sentiment']['sentiment_score'])\n",
    "        elif 'sentiment_score' in item:\n",
    "            scores.append(item['sentiment_score'])\n",
    "        elif 'sentiment' in item and 'overall_score' in item['sentiment']:\n",
    "            scores.append(float(item['sentiment']['overall_score']))\n",
    "        else:\n",
    "            scores.append(None)  # Append None if no score is found\n",
    "    return scores\n",
    "    # return [item['sentiment_analysis']['sentiment_score'] for item in sentiment_list if 'sentiment_analysis' in item and 'sentiment_score' in item['sentiment_analysis']]\n",
    "\n",
    "# Apply to a single row\n",
    "scores = extract_sentiment_scores(df['sentiment_iterate'][0])\n",
    "print(scores)\n",
    "\n",
    "# Apply to the entire DataFrame\n",
    "df['sentiment_scores'] = df['sentiment_iterate'].apply(extract_sentiment_scores)\n",
    "df['sentiment_scores']"
   ]
  },
  {
   "cell_type": "code",
   "execution_count": 58,
   "metadata": {},
   "outputs": [
    {
     "name": "stdout",
     "output_type": "stream",
     "text": [
      "Overall Mean of sentiment scores: 0.68\n",
      "Overall Standard Deviation of sentiment scores: 0.06\n",
      "Combined Standard Deviation of all scores: 0.18\n"
     ]
    }
   ],
   "source": [
    "import numpy as np\n",
    "\n",
    "def convert_list_to_float(score_list):\n",
    "    return [float(score) for score in score_list]\n",
    "\n",
    "# Apply the conversion to the entire column\n",
    "df['sentiment_scores_number'] = df['sentiment_scores'].apply(convert_list_to_float)\n",
    "# Calculate mean and std for each row\n",
    "df['mean_sentiment'] = df['sentiment_scores_number'].apply(np.mean)/10\n",
    "df['std_sentiment'] = df['sentiment_scores_number'].apply(np.std)/10\n",
    "\n",
    "# Calculate overall mean and std\n",
    "overall_mean = df['mean_sentiment'].mean()\n",
    "overall_std = df['std_sentiment'].mean()\n",
    "\n",
    "print(f\"Overall Mean of sentiment scores: {overall_mean:.2f}\")\n",
    "print(f\"Overall Standard Deviation of sentiment scores: {overall_std:.2f}\")\n",
    "\n",
    "# If you want the std of all scores combined (not averaged per row)\n",
    "all_scores = [score for scores in df['sentiment_scores'] for score in scores]\n",
    "combined_std = np.std(all_scores)/10\n",
    "print(f\"Combined Standard Deviation of all scores: {combined_std:.2f}\")"
   ]
  },
  {
   "cell_type": "code",
   "execution_count": 59,
   "metadata": {},
   "outputs": [
    {
     "data": {
      "text/plain": [
       "(0    0.710\n",
       " 1    0.900\n",
       " 2    0.760\n",
       " 3    0.628\n",
       " 4    0.720\n",
       " 5    0.690\n",
       " 6    0.750\n",
       " 7    0.304\n",
       " Name: mean_sentiment, dtype: float64,\n",
       " 0    0.020000\n",
       " 1    0.000000\n",
       " 2    0.048990\n",
       " 3    0.113737\n",
       " 4    0.040000\n",
       " 5    0.080000\n",
       " 6    0.044721\n",
       " 7    0.114298\n",
       " Name: std_sentiment, dtype: float64)"
      ]
     },
     "execution_count": 59,
     "metadata": {},
     "output_type": "execute_result"
    }
   ],
   "source": [
    "df['mean_sentiment'], df['std_sentiment']"
   ]
  },
  {
   "cell_type": "code",
   "execution_count": 51,
   "metadata": {},
   "outputs": [
    {
     "data": {
      "text/plain": [
       "[{'sentiment_analysis': {'text': 'that I have seen every day in our president.',\n",
       "   'sentiment_score': 3.5,\n",
       "   'sentiment_category': 'Neutral'}},\n",
       " {'sentiment_analysis': {'text': 'that I have seen every day in our president.',\n",
       "   'sentiment_score': 1}},\n",
       " {'sentiment_analysis': {'text': 'that I have seen every day in our president.',\n",
       "   'sentiment_score': 4.5,\n",
       "   'sentiment': 'Neutral'}},\n",
       " {'sentiment_analysis': {'text': 'that I have seen every day in our president.',\n",
       "   'sentiment_score': 3}},\n",
       " {'text': 'that I have seen every day in our president.',\n",
       "  'sentiment_score': 3.2,\n",
       "  'sentiment_label': 'Neutral'}]"
      ]
     },
     "execution_count": 51,
     "metadata": {},
     "output_type": "execute_result"
    }
   ],
   "source": [
    "df['sentiment_iterate'][7]"
   ]
  },
  {
   "cell_type": "code",
   "execution_count": 53,
   "metadata": {},
   "outputs": [
    {
     "data": {
      "text/plain": [
       "3.2"
      ]
     },
     "execution_count": 53,
     "metadata": {},
     "output_type": "execute_result"
    }
   ],
   "source": [
    "df['sentiment_iterate'][7][-1]['sentiment_score']"
   ]
  },
  {
   "cell_type": "code",
   "execution_count": 45,
   "metadata": {},
   "outputs": [
    {
     "data": {
      "text/plain": [
       "'7'"
      ]
     },
     "execution_count": 45,
     "metadata": {},
     "output_type": "execute_result"
    }
   ],
   "source": [
    "df['sentiment_iterate'][4][2]['sentiment']['overall_score']"
   ]
  },
  {
   "cell_type": "code",
   "execution_count": 48,
   "metadata": {},
   "outputs": [
    {
     "data": {
      "text/plain": [
       "0    5\n",
       "1    5\n",
       "2    5\n",
       "3    5\n",
       "4    5\n",
       "5    5\n",
       "6    5\n",
       "7    5\n",
       "Name: len_sentiment, dtype: int64"
      ]
     },
     "execution_count": 48,
     "metadata": {},
     "output_type": "execute_result"
    }
   ],
   "source": [
    "df['len_sentiment'] = df['sentiment_scores'].apply(len)\n",
    "df['len_sentiment']"
   ]
  },
  {
   "cell_type": "markdown",
   "metadata": {},
   "source": [
    "# Analysis 3: Complete Metric Correlations and Semantic Data Analysis"
   ]
  },
  {
   "cell_type": "code",
   "execution_count": 1,
   "metadata": {},
   "outputs": [
    {
     "name": "stderr",
     "output_type": "stream",
     "text": [
      "Processing: 100%|██████████| 36/36 [06:14<00:00, 10.41s/it]\n"
     ]
    },
    {
     "ename": "TypeError",
     "evalue": "string indices must be integers",
     "output_type": "error",
     "traceback": [
      "\u001b[0;31m---------------------------------------------------------------------------\u001b[0m",
      "\u001b[0;31mTypeError\u001b[0m                                 Traceback (most recent call last)",
      "Cell \u001b[0;32mIn[1], line 89\u001b[0m\n\u001b[1;32m     86\u001b[0m     \u001b[38;5;28;01mreturn\u001b[39;00m scores\n\u001b[1;32m     88\u001b[0m \u001b[38;5;66;03m# Apply to the entire DataFrame\u001b[39;00m\n\u001b[0;32m---> 89\u001b[0m df[\u001b[38;5;124m'\u001b[39m\u001b[38;5;124msentiment_scores\u001b[39m\u001b[38;5;124m'\u001b[39m] \u001b[38;5;241m=\u001b[39m \u001b[43mdf\u001b[49m\u001b[43m[\u001b[49m\u001b[38;5;124;43m'\u001b[39;49m\u001b[38;5;124;43msentiment_iterate\u001b[39;49m\u001b[38;5;124;43m'\u001b[39;49m\u001b[43m]\u001b[49m\u001b[38;5;241;43m.\u001b[39;49m\u001b[43mapply\u001b[49m\u001b[43m(\u001b[49m\u001b[43mextract_sentiment_scores\u001b[49m\u001b[43m)\u001b[49m\n",
      "File \u001b[0;32m~/Library/Python/3.9/lib/python/site-packages/pandas/core/series.py:4753\u001b[0m, in \u001b[0;36mSeries.apply\u001b[0;34m(self, func, convert_dtype, args, by_row, **kwargs)\u001b[0m\n\u001b[1;32m   4625\u001b[0m \u001b[38;5;28;01mdef\u001b[39;00m \u001b[38;5;21mapply\u001b[39m(\n\u001b[1;32m   4626\u001b[0m     \u001b[38;5;28mself\u001b[39m,\n\u001b[1;32m   4627\u001b[0m     func: AggFuncType,\n\u001b[0;32m   (...)\u001b[0m\n\u001b[1;32m   4632\u001b[0m     \u001b[38;5;241m*\u001b[39m\u001b[38;5;241m*\u001b[39mkwargs,\n\u001b[1;32m   4633\u001b[0m ) \u001b[38;5;241m-\u001b[39m\u001b[38;5;241m>\u001b[39m DataFrame \u001b[38;5;241m|\u001b[39m Series:\n\u001b[1;32m   4634\u001b[0m \u001b[38;5;250m    \u001b[39m\u001b[38;5;124;03m\"\"\"\u001b[39;00m\n\u001b[1;32m   4635\u001b[0m \u001b[38;5;124;03m    Invoke function on values of Series.\u001b[39;00m\n\u001b[1;32m   4636\u001b[0m \n\u001b[0;32m   (...)\u001b[0m\n\u001b[1;32m   4751\u001b[0m \u001b[38;5;124;03m    dtype: float64\u001b[39;00m\n\u001b[1;32m   4752\u001b[0m \u001b[38;5;124;03m    \"\"\"\u001b[39;00m\n\u001b[0;32m-> 4753\u001b[0m     \u001b[38;5;28;01mreturn\u001b[39;00m \u001b[43mSeriesApply\u001b[49m\u001b[43m(\u001b[49m\n\u001b[1;32m   4754\u001b[0m \u001b[43m        \u001b[49m\u001b[38;5;28;43mself\u001b[39;49m\u001b[43m,\u001b[49m\n\u001b[1;32m   4755\u001b[0m \u001b[43m        \u001b[49m\u001b[43mfunc\u001b[49m\u001b[43m,\u001b[49m\n\u001b[1;32m   4756\u001b[0m \u001b[43m        \u001b[49m\u001b[43mconvert_dtype\u001b[49m\u001b[38;5;241;43m=\u001b[39;49m\u001b[43mconvert_dtype\u001b[49m\u001b[43m,\u001b[49m\n\u001b[1;32m   4757\u001b[0m \u001b[43m        \u001b[49m\u001b[43mby_row\u001b[49m\u001b[38;5;241;43m=\u001b[39;49m\u001b[43mby_row\u001b[49m\u001b[43m,\u001b[49m\n\u001b[1;32m   4758\u001b[0m \u001b[43m        \u001b[49m\u001b[43margs\u001b[49m\u001b[38;5;241;43m=\u001b[39;49m\u001b[43margs\u001b[49m\u001b[43m,\u001b[49m\n\u001b[1;32m   4759\u001b[0m \u001b[43m        \u001b[49m\u001b[43mkwargs\u001b[49m\u001b[38;5;241;43m=\u001b[39;49m\u001b[43mkwargs\u001b[49m\u001b[43m,\u001b[49m\n\u001b[1;32m   4760\u001b[0m \u001b[43m    \u001b[49m\u001b[43m)\u001b[49m\u001b[38;5;241;43m.\u001b[39;49m\u001b[43mapply\u001b[49m\u001b[43m(\u001b[49m\u001b[43m)\u001b[49m\n",
      "File \u001b[0;32m~/Library/Python/3.9/lib/python/site-packages/pandas/core/apply.py:1207\u001b[0m, in \u001b[0;36mSeriesApply.apply\u001b[0;34m(self)\u001b[0m\n\u001b[1;32m   1204\u001b[0m     \u001b[38;5;28;01mreturn\u001b[39;00m \u001b[38;5;28mself\u001b[39m\u001b[38;5;241m.\u001b[39mapply_compat()\n\u001b[1;32m   1206\u001b[0m \u001b[38;5;66;03m# self.func is Callable\u001b[39;00m\n\u001b[0;32m-> 1207\u001b[0m \u001b[38;5;28;01mreturn\u001b[39;00m \u001b[38;5;28;43mself\u001b[39;49m\u001b[38;5;241;43m.\u001b[39;49m\u001b[43mapply_standard\u001b[49m\u001b[43m(\u001b[49m\u001b[43m)\u001b[49m\n",
      "File \u001b[0;32m~/Library/Python/3.9/lib/python/site-packages/pandas/core/apply.py:1287\u001b[0m, in \u001b[0;36mSeriesApply.apply_standard\u001b[0;34m(self)\u001b[0m\n\u001b[1;32m   1281\u001b[0m \u001b[38;5;66;03m# row-wise access\u001b[39;00m\n\u001b[1;32m   1282\u001b[0m \u001b[38;5;66;03m# apply doesn't have a `na_action` keyword and for backward compat reasons\u001b[39;00m\n\u001b[1;32m   1283\u001b[0m \u001b[38;5;66;03m# we need to give `na_action=\"ignore\"` for categorical data.\u001b[39;00m\n\u001b[1;32m   1284\u001b[0m \u001b[38;5;66;03m# TODO: remove the `na_action=\"ignore\"` when that default has been changed in\u001b[39;00m\n\u001b[1;32m   1285\u001b[0m \u001b[38;5;66;03m#  Categorical (GH51645).\u001b[39;00m\n\u001b[1;32m   1286\u001b[0m action \u001b[38;5;241m=\u001b[39m \u001b[38;5;124m\"\u001b[39m\u001b[38;5;124mignore\u001b[39m\u001b[38;5;124m\"\u001b[39m \u001b[38;5;28;01mif\u001b[39;00m \u001b[38;5;28misinstance\u001b[39m(obj\u001b[38;5;241m.\u001b[39mdtype, CategoricalDtype) \u001b[38;5;28;01melse\u001b[39;00m \u001b[38;5;28;01mNone\u001b[39;00m\n\u001b[0;32m-> 1287\u001b[0m mapped \u001b[38;5;241m=\u001b[39m \u001b[43mobj\u001b[49m\u001b[38;5;241;43m.\u001b[39;49m\u001b[43m_map_values\u001b[49m\u001b[43m(\u001b[49m\n\u001b[1;32m   1288\u001b[0m \u001b[43m    \u001b[49m\u001b[43mmapper\u001b[49m\u001b[38;5;241;43m=\u001b[39;49m\u001b[43mcurried\u001b[49m\u001b[43m,\u001b[49m\u001b[43m \u001b[49m\u001b[43mna_action\u001b[49m\u001b[38;5;241;43m=\u001b[39;49m\u001b[43maction\u001b[49m\u001b[43m,\u001b[49m\u001b[43m \u001b[49m\u001b[43mconvert\u001b[49m\u001b[38;5;241;43m=\u001b[39;49m\u001b[38;5;28;43mself\u001b[39;49m\u001b[38;5;241;43m.\u001b[39;49m\u001b[43mconvert_dtype\u001b[49m\n\u001b[1;32m   1289\u001b[0m \u001b[43m\u001b[49m\u001b[43m)\u001b[49m\n\u001b[1;32m   1291\u001b[0m \u001b[38;5;28;01mif\u001b[39;00m \u001b[38;5;28mlen\u001b[39m(mapped) \u001b[38;5;129;01mand\u001b[39;00m \u001b[38;5;28misinstance\u001b[39m(mapped[\u001b[38;5;241m0\u001b[39m], ABCSeries):\n\u001b[1;32m   1292\u001b[0m     \u001b[38;5;66;03m# GH#43986 Need to do list(mapped) in order to get treated as nested\u001b[39;00m\n\u001b[1;32m   1293\u001b[0m     \u001b[38;5;66;03m#  See also GH#25959 regarding EA support\u001b[39;00m\n\u001b[1;32m   1294\u001b[0m     \u001b[38;5;28;01mreturn\u001b[39;00m obj\u001b[38;5;241m.\u001b[39m_constructor_expanddim(\u001b[38;5;28mlist\u001b[39m(mapped), index\u001b[38;5;241m=\u001b[39mobj\u001b[38;5;241m.\u001b[39mindex)\n",
      "File \u001b[0;32m~/Library/Python/3.9/lib/python/site-packages/pandas/core/base.py:921\u001b[0m, in \u001b[0;36mIndexOpsMixin._map_values\u001b[0;34m(self, mapper, na_action, convert)\u001b[0m\n\u001b[1;32m    918\u001b[0m \u001b[38;5;28;01mif\u001b[39;00m \u001b[38;5;28misinstance\u001b[39m(arr, ExtensionArray):\n\u001b[1;32m    919\u001b[0m     \u001b[38;5;28;01mreturn\u001b[39;00m arr\u001b[38;5;241m.\u001b[39mmap(mapper, na_action\u001b[38;5;241m=\u001b[39mna_action)\n\u001b[0;32m--> 921\u001b[0m \u001b[38;5;28;01mreturn\u001b[39;00m \u001b[43malgorithms\u001b[49m\u001b[38;5;241;43m.\u001b[39;49m\u001b[43mmap_array\u001b[49m\u001b[43m(\u001b[49m\u001b[43marr\u001b[49m\u001b[43m,\u001b[49m\u001b[43m \u001b[49m\u001b[43mmapper\u001b[49m\u001b[43m,\u001b[49m\u001b[43m \u001b[49m\u001b[43mna_action\u001b[49m\u001b[38;5;241;43m=\u001b[39;49m\u001b[43mna_action\u001b[49m\u001b[43m,\u001b[49m\u001b[43m \u001b[49m\u001b[43mconvert\u001b[49m\u001b[38;5;241;43m=\u001b[39;49m\u001b[43mconvert\u001b[49m\u001b[43m)\u001b[49m\n",
      "File \u001b[0;32m~/Library/Python/3.9/lib/python/site-packages/pandas/core/algorithms.py:1814\u001b[0m, in \u001b[0;36mmap_array\u001b[0;34m(arr, mapper, na_action, convert)\u001b[0m\n\u001b[1;32m   1812\u001b[0m values \u001b[38;5;241m=\u001b[39m arr\u001b[38;5;241m.\u001b[39mastype(\u001b[38;5;28mobject\u001b[39m, copy\u001b[38;5;241m=\u001b[39m\u001b[38;5;28;01mFalse\u001b[39;00m)\n\u001b[1;32m   1813\u001b[0m \u001b[38;5;28;01mif\u001b[39;00m na_action \u001b[38;5;129;01mis\u001b[39;00m \u001b[38;5;28;01mNone\u001b[39;00m:\n\u001b[0;32m-> 1814\u001b[0m     \u001b[38;5;28;01mreturn\u001b[39;00m \u001b[43mlib\u001b[49m\u001b[38;5;241;43m.\u001b[39;49m\u001b[43mmap_infer\u001b[49m\u001b[43m(\u001b[49m\u001b[43mvalues\u001b[49m\u001b[43m,\u001b[49m\u001b[43m \u001b[49m\u001b[43mmapper\u001b[49m\u001b[43m,\u001b[49m\u001b[43m \u001b[49m\u001b[43mconvert\u001b[49m\u001b[38;5;241;43m=\u001b[39;49m\u001b[43mconvert\u001b[49m\u001b[43m)\u001b[49m\n\u001b[1;32m   1815\u001b[0m \u001b[38;5;28;01melse\u001b[39;00m:\n\u001b[1;32m   1816\u001b[0m     \u001b[38;5;28;01mreturn\u001b[39;00m lib\u001b[38;5;241m.\u001b[39mmap_infer_mask(\n\u001b[1;32m   1817\u001b[0m         values, mapper, mask\u001b[38;5;241m=\u001b[39misna(values)\u001b[38;5;241m.\u001b[39mview(np\u001b[38;5;241m.\u001b[39muint8), convert\u001b[38;5;241m=\u001b[39mconvert\n\u001b[1;32m   1818\u001b[0m     )\n",
      "File \u001b[0;32mlib.pyx:2920\u001b[0m, in \u001b[0;36mpandas._libs.lib.map_infer\u001b[0;34m()\u001b[0m\n",
      "Cell \u001b[0;32mIn[1], line 75\u001b[0m, in \u001b[0;36mextract_sentiment_scores\u001b[0;34m(sentiment_list)\u001b[0m\n\u001b[1;32m     73\u001b[0m     scores\u001b[38;5;241m.\u001b[39mappend(item[\u001b[38;5;124m'\u001b[39m\u001b[38;5;124msentiment\u001b[39m\u001b[38;5;124m'\u001b[39m][\u001b[38;5;124m'\u001b[39m\u001b[38;5;124mscore\u001b[39m\u001b[38;5;124m'\u001b[39m])\n\u001b[1;32m     74\u001b[0m \u001b[38;5;28;01melif\u001b[39;00m \u001b[38;5;124m'\u001b[39m\u001b[38;5;124msentiment\u001b[39m\u001b[38;5;124m'\u001b[39m \u001b[38;5;129;01min\u001b[39;00m item \u001b[38;5;129;01mand\u001b[39;00m \u001b[38;5;124m'\u001b[39m\u001b[38;5;124mpositive\u001b[39m\u001b[38;5;124m'\u001b[39m \u001b[38;5;129;01min\u001b[39;00m item[\u001b[38;5;124m'\u001b[39m\u001b[38;5;124msentiment\u001b[39m\u001b[38;5;124m'\u001b[39m]:\n\u001b[0;32m---> 75\u001b[0m     scores\u001b[38;5;241m.\u001b[39mappend(\u001b[43mitem\u001b[49m\u001b[43m[\u001b[49m\u001b[38;5;124;43m'\u001b[39;49m\u001b[38;5;124;43msentiment\u001b[39;49m\u001b[38;5;124;43m'\u001b[39;49m\u001b[43m]\u001b[49m\u001b[43m[\u001b[49m\u001b[38;5;124;43m'\u001b[39;49m\u001b[38;5;124;43mpositive\u001b[39;49m\u001b[38;5;124;43m'\u001b[39;49m\u001b[43m]\u001b[49m)\n\u001b[1;32m     76\u001b[0m \u001b[38;5;28;01melif\u001b[39;00m \u001b[38;5;124m'\u001b[39m\u001b[38;5;124msentiment\u001b[39m\u001b[38;5;124m'\u001b[39m \u001b[38;5;129;01min\u001b[39;00m item \u001b[38;5;129;01mand\u001b[39;00m \u001b[38;5;124m'\u001b[39m\u001b[38;5;124moverall\u001b[39m\u001b[38;5;124m'\u001b[39m \u001b[38;5;129;01min\u001b[39;00m item[\u001b[38;5;124m'\u001b[39m\u001b[38;5;124msentiment\u001b[39m\u001b[38;5;124m'\u001b[39m]:\n\u001b[1;32m     77\u001b[0m     scores\u001b[38;5;241m.\u001b[39mappend(item[\u001b[38;5;124m'\u001b[39m\u001b[38;5;124msentiment\u001b[39m\u001b[38;5;124m'\u001b[39m][\u001b[38;5;124m'\u001b[39m\u001b[38;5;124moverall\u001b[39m\u001b[38;5;124m'\u001b[39m])\n",
      "\u001b[0;31mTypeError\u001b[0m: string indices must be integers"
     ]
    }
   ],
   "source": [
    "# Create network plot using corrplot\n",
    "import matplotlib.pyplot as plt\n",
    "import seaborn as sns\n",
    "import json\n",
    "import pandas as pd\n",
    "import numpy as np\n",
    "from openai import OpenAI\n",
    "from tqdm import tqdm\n",
    "import time\n",
    "\n",
    "import pandas as pd\n",
    "# public/packages/kamala_harris_praises_biden_s_legacy_saying_it_s_unmatched_in_modern_history_shorts/transcription_result.csv\n",
    "# public/packages/kamala_harris_says_she_s_ready_to_debate_trump_shorts/transcription_result.csv\n",
    "df = pd.read_csv(\"public/packages/shots_fired_at_trump_rally/transcription_result.csv\")\n",
    "df\n",
    "\n",
    "# Set up OpenAI client\n",
    "api_key = \"sk-proj-4LbQ2lqaXi5zLWAjZIp5T3BlbkFJkMGFDil8L6yKmTvqTIDO\"  # Replace with your actual OpenAI API key\n",
    "client = OpenAI(api_key=api_key)\n",
    "\n",
    "def get_sentiment(text):\n",
    "    try:\n",
    "        response = client.chat.completions.create(\n",
    "            model=\"gpt-3.5-turbo\",\n",
    "            messages=[\n",
    "                {\"role\": \"system\", \"content\": \"You are an assistant that only responds in valid JSON format. Your task is to provide sentiment analysis and present the results, model into a specific JSON structure.\"},\n",
    "                {\"role\": \"user\", \"content\": f\"Help me to get the sentiment analysis of the text from 1-10 into JSON files without any ''' json ''' that is not in the string format, where the text is stored in a variable called text: {text}\"}\n",
    "            ]\n",
    "        )\n",
    "\n",
    "        # Extract the content from the response\n",
    "        content = response.choices[0].message.content\n",
    "\n",
    "        # Parse the JSON content\n",
    "        sentiment_data = json.loads(content)\n",
    "        return sentiment_data\n",
    "\n",
    "    except Exception as e:\n",
    "        print(f\"Error processing text: {text[:50]}... Error: {str(e)}\")\n",
    "        return None\n",
    "\n",
    "# Function to apply sentiment analysis with rate limiting and iteration\n",
    "def apply_sentiment_analysis(df):\n",
    "    results = []\n",
    "    for _, row in tqdm(df.iterrows(), total=df.shape[0], desc=\"Processing\"):\n",
    "        sentiment_list = []\n",
    "        for _ in range(5):  # Iterate 5 times for each text\n",
    "            sentiment = get_sentiment(row['text'])\n",
    "            sentiment_list.append(sentiment)\n",
    "            time.sleep(1)  # Rate limiting: wait 1 second between requests\n",
    "        results.append(sentiment_list)\n",
    "    return results\n",
    "\n",
    "def convert_list_to_float(score_list):\n",
    "    return [float(score) for score in score_list]\n",
    "\n",
    "# Assuming df is your DataFrame with a 'text' column\n",
    "# Apply the sentiment analysis\n",
    "df['sentiment_iterate'] = apply_sentiment_analysis(df)\n",
    "\n",
    "# def extract_sentiment_scores(sentiment_list):\n",
    "#     scores = []\n",
    "#     for item in sentiment_list:\n",
    "#         if 'sentiment_analysis' in item and 'sentiment_score' in item['sentiment_analysis']:\n",
    "#             scores.append(item['sentiment_analysis']['sentiment_score'])\n",
    "#         elif 'sentiment_analysis' in item and 'overall_sentiment' in item['sentiment_analysis']:\n",
    "#             scores.append(item['sentiment_analysis']['overall_sentiment'])\n",
    "#         elif 'sentiment_analysis' in item and 'score' in item['sentiment_analysis']:\n",
    "#             scores.append(item['sentiment_analysis']['score'])\n",
    "#         elif 'sentiment' in item and 'subjectivity_confidence' in item['sentiment']:\n",
    "#             scores.append(item['sentiment']['subjectivity_confidence']*10)\n",
    "#         elif 'sentiment' in item and 'score' in item['sentiment']:\n",
    "#             scores.append(item['sentiment']['score'])\n",
    "#         elif 'sentiment' in item and 'positive' in item['sentiment']:\n",
    "#             scores.append(item['sentiment']['positive'])\n",
    "#         elif 'sentiment' in item and 'overall' in item['sentiment']:\n",
    "#             scores.append(item['sentiment']['overall'])\n",
    "#         elif 'sentiment' in item and 'sentiment_score' in item['sentiment']:\n",
    "#             scores.append(item['sentiment']['sentiment_score'])\n",
    "#         elif 'sentiment_score' in item:\n",
    "#             scores.append(item['sentiment_score'])\n",
    "#         elif 'sentiment' in item and 'overall_score' in item['sentiment']:\n",
    "#             scores.append(float(item['sentiment']['overall_score']))\n",
    "#         else:\n",
    "#             scores.append(None)  # Append None if no score is found\n",
    "#     return scores\n",
    "\n"
   ]
  },
  {
   "cell_type": "code",
   "execution_count": 8,
   "metadata": {},
   "outputs": [
    {
     "data": {
      "text/plain": [
       "0         [7, 6, 6.8, 5, 7.5]\n",
       "1       [3, 3.5, 3, 3.8, 5.6]\n",
       "2          [7, None, 5, 7, 7]\n",
       "3             [1, 2, 1, 1, 1]\n",
       "4     [3.5, 3.2, 3.5, 3, 3.7]\n",
       "5         [1, 4.5, 4.5, 3, 5]\n",
       "6           [2, 1, 2, 1, 1.4]\n",
       "7       [3, 4, 3.5, 4.5, 4.5]\n",
       "8     [None, -5, -6, 3, -4.2]\n",
       "9       [3.5, 8.5, 8, 4.5, 3]\n",
       "10       [3, 3, -0.2, 4.2, 3]\n",
       "11      [None, -0.1, 6, 6, 7]\n",
       "12            [7, 7, 7, 8, 6]\n",
       "13          [4.5, 3, 4, 3, 3]\n",
       "14            [7, 5, 5, 5, 5]\n",
       "15        [7.5, 8, 8, 8, 7.5]\n",
       "16          [7, 5, 5.5, 7, 7]\n",
       "17         [3, 2.5, 3, 3, -4]\n",
       "18          [8, 7, 8, 8.5, 7]\n",
       "19     [7.5, 8.5, 8, 7, None]\n",
       "20        [3, 4, 3.5, 3, 7.5]\n",
       "21       [0.75, 5, 7, 9.5, 3]\n",
       "22         [8, None, 8, 9, 8]\n",
       "23         [None, 8, 9, 8, 8]\n",
       "24            [7, 5, 7, 8, 7]\n",
       "25            [5, 5, 8, 8, 5]\n",
       "26          [5, 7, 5, 4.5, 4]\n",
       "27          [1.0, 2, 2, 2, 2]\n",
       "28            [8, 8, 8, 8, 8]\n",
       "29         [7, 7, 7, None, 6]\n",
       "30    [5, neutral, 7.5, 7, 7]\n",
       "31    [3.5, -0.4, 2, 3, -0.3]\n",
       "32         [7, 7, 8, None, 7]\n",
       "33         [None, 8, 8, 8, 8]\n",
       "34        [3.5, 7.5, 5, 3, 7]\n",
       "35            [8, 8, 8, 7, 7]\n",
       "Name: sentiment_scores, dtype: object"
      ]
     },
     "execution_count": 8,
     "metadata": {},
     "output_type": "execute_result"
    }
   ],
   "source": [
    "def extract_sentiment_scores(sentiment_list):\n",
    "    scores = []\n",
    "    for item in sentiment_list:\n",
    "        try:\n",
    "            if 'sentiment_analysis' in item and 'sentiment_score' in item['sentiment_analysis']:\n",
    "                scores.append(item['sentiment_analysis']['sentiment_score'])\n",
    "            elif 'sentiment_analysis' in item and 'overall_sentiment' in item['sentiment_analysis']:\n",
    "                scores.append(item['sentiment_analysis']['overall_sentiment'])\n",
    "            elif 'sentiment_analysis' in item and 'score' in item['sentiment_analysis']:\n",
    "                scores.append(item['sentiment_analysis']['score'])\n",
    "            elif 'sentiment' in item and 'subjectivity_confidence' in item['sentiment']:\n",
    "                scores.append(item['sentiment']['subjectivity_confidence'] * 10)\n",
    "            elif 'sentiment' in item and 'score' in item['sentiment']:\n",
    "                scores.append(item['sentiment']['score'])\n",
    "            elif 'sentiment' in item and 'positive' in item['sentiment']:\n",
    "                scores.append(item['sentiment']['positive'])\n",
    "            elif 'sentiment' in item and 'overall' in item['sentiment']:\n",
    "                scores.append(item['sentiment']['overall'])\n",
    "            elif 'sentiment' in item and 'sentiment_score' in item['sentiment']:\n",
    "                scores.append(item['sentiment']['sentiment_score'])\n",
    "            elif 'sentiment_score' in item:\n",
    "                scores.append(item['sentiment_score'])\n",
    "            elif 'sentiment' in item and 'overall_score' in item['sentiment']:\n",
    "                scores.append(float(item['sentiment']['overall_score']))\n",
    "            else:\n",
    "                scores.append(None)  # Append None if no score is found\n",
    "        except (KeyError, TypeError, ValueError):\n",
    "            scores.append(None)  # Append None in case of any exception\n",
    "    \n",
    "    \n",
    "    return scores\n",
    "\n",
    "\n",
    "df['sentiment_iterate'] = apply_sentiment_analysis(df)\n",
    "\n",
    "# Apply the function to the DataFrame\n",
    "df['sentiment_scores'] = df['sentiment_iterate'].apply(extract_sentiment_scores)\n",
    "df['sentiment_scores']"
   ]
  },
  {
   "cell_type": "code",
   "execution_count": 7,
   "metadata": {},
   "outputs": [
    {
     "ename": "UFuncTypeError",
     "evalue": "ufunc 'add' did not contain a loop with signature matching types (dtype('<U32'), dtype('<U32')) -> None",
     "output_type": "error",
     "traceback": [
      "\u001b[0;31m---------------------------------------------------------------------------\u001b[0m",
      "\u001b[0;31mUFuncTypeError\u001b[0m                            Traceback (most recent call last)",
      "Cell \u001b[0;32mIn[7], line 42\u001b[0m\n\u001b[1;32m     39\u001b[0m     \u001b[38;5;28;01mreturn\u001b[39;00m scores\n\u001b[1;32m     41\u001b[0m \u001b[38;5;66;03m# Apply the extraction function to the DataFrame\u001b[39;00m\n\u001b[0;32m---> 42\u001b[0m df[\u001b[38;5;124m'\u001b[39m\u001b[38;5;124msentiment_scores\u001b[39m\u001b[38;5;124m'\u001b[39m] \u001b[38;5;241m=\u001b[39m \u001b[43mdf\u001b[49m\u001b[43m[\u001b[49m\u001b[38;5;124;43m'\u001b[39;49m\u001b[38;5;124;43msentiment_iterate\u001b[39;49m\u001b[38;5;124;43m'\u001b[39;49m\u001b[43m]\u001b[49m\u001b[38;5;241;43m.\u001b[39;49m\u001b[43mapply\u001b[49m\u001b[43m(\u001b[49m\u001b[43mextract_sentiment_scores\u001b[49m\u001b[43m)\u001b[49m\n\u001b[1;32m     44\u001b[0m \u001b[38;5;66;03m# Convert the list elements to floats\u001b[39;00m\n\u001b[1;32m     45\u001b[0m \u001b[38;5;28;01mdef\u001b[39;00m \u001b[38;5;21mconvert_list_to_float\u001b[39m(score_list):\n",
      "File \u001b[0;32m~/Library/Python/3.9/lib/python/site-packages/pandas/core/series.py:4753\u001b[0m, in \u001b[0;36mSeries.apply\u001b[0;34m(self, func, convert_dtype, args, by_row, **kwargs)\u001b[0m\n\u001b[1;32m   4625\u001b[0m \u001b[38;5;28;01mdef\u001b[39;00m \u001b[38;5;21mapply\u001b[39m(\n\u001b[1;32m   4626\u001b[0m     \u001b[38;5;28mself\u001b[39m,\n\u001b[1;32m   4627\u001b[0m     func: AggFuncType,\n\u001b[0;32m   (...)\u001b[0m\n\u001b[1;32m   4632\u001b[0m     \u001b[38;5;241m*\u001b[39m\u001b[38;5;241m*\u001b[39mkwargs,\n\u001b[1;32m   4633\u001b[0m ) \u001b[38;5;241m-\u001b[39m\u001b[38;5;241m>\u001b[39m DataFrame \u001b[38;5;241m|\u001b[39m Series:\n\u001b[1;32m   4634\u001b[0m \u001b[38;5;250m    \u001b[39m\u001b[38;5;124;03m\"\"\"\u001b[39;00m\n\u001b[1;32m   4635\u001b[0m \u001b[38;5;124;03m    Invoke function on values of Series.\u001b[39;00m\n\u001b[1;32m   4636\u001b[0m \n\u001b[0;32m   (...)\u001b[0m\n\u001b[1;32m   4751\u001b[0m \u001b[38;5;124;03m    dtype: float64\u001b[39;00m\n\u001b[1;32m   4752\u001b[0m \u001b[38;5;124;03m    \"\"\"\u001b[39;00m\n\u001b[0;32m-> 4753\u001b[0m     \u001b[38;5;28;01mreturn\u001b[39;00m \u001b[43mSeriesApply\u001b[49m\u001b[43m(\u001b[49m\n\u001b[1;32m   4754\u001b[0m \u001b[43m        \u001b[49m\u001b[38;5;28;43mself\u001b[39;49m\u001b[43m,\u001b[49m\n\u001b[1;32m   4755\u001b[0m \u001b[43m        \u001b[49m\u001b[43mfunc\u001b[49m\u001b[43m,\u001b[49m\n\u001b[1;32m   4756\u001b[0m \u001b[43m        \u001b[49m\u001b[43mconvert_dtype\u001b[49m\u001b[38;5;241;43m=\u001b[39;49m\u001b[43mconvert_dtype\u001b[49m\u001b[43m,\u001b[49m\n\u001b[1;32m   4757\u001b[0m \u001b[43m        \u001b[49m\u001b[43mby_row\u001b[49m\u001b[38;5;241;43m=\u001b[39;49m\u001b[43mby_row\u001b[49m\u001b[43m,\u001b[49m\n\u001b[1;32m   4758\u001b[0m \u001b[43m        \u001b[49m\u001b[43margs\u001b[49m\u001b[38;5;241;43m=\u001b[39;49m\u001b[43margs\u001b[49m\u001b[43m,\u001b[49m\n\u001b[1;32m   4759\u001b[0m \u001b[43m        \u001b[49m\u001b[43mkwargs\u001b[49m\u001b[38;5;241;43m=\u001b[39;49m\u001b[43mkwargs\u001b[49m\u001b[43m,\u001b[49m\n\u001b[1;32m   4760\u001b[0m \u001b[43m    \u001b[49m\u001b[43m)\u001b[49m\u001b[38;5;241;43m.\u001b[39;49m\u001b[43mapply\u001b[49m\u001b[43m(\u001b[49m\u001b[43m)\u001b[49m\n",
      "File \u001b[0;32m~/Library/Python/3.9/lib/python/site-packages/pandas/core/apply.py:1207\u001b[0m, in \u001b[0;36mSeriesApply.apply\u001b[0;34m(self)\u001b[0m\n\u001b[1;32m   1204\u001b[0m     \u001b[38;5;28;01mreturn\u001b[39;00m \u001b[38;5;28mself\u001b[39m\u001b[38;5;241m.\u001b[39mapply_compat()\n\u001b[1;32m   1206\u001b[0m \u001b[38;5;66;03m# self.func is Callable\u001b[39;00m\n\u001b[0;32m-> 1207\u001b[0m \u001b[38;5;28;01mreturn\u001b[39;00m \u001b[38;5;28;43mself\u001b[39;49m\u001b[38;5;241;43m.\u001b[39;49m\u001b[43mapply_standard\u001b[49m\u001b[43m(\u001b[49m\u001b[43m)\u001b[49m\n",
      "File \u001b[0;32m~/Library/Python/3.9/lib/python/site-packages/pandas/core/apply.py:1287\u001b[0m, in \u001b[0;36mSeriesApply.apply_standard\u001b[0;34m(self)\u001b[0m\n\u001b[1;32m   1281\u001b[0m \u001b[38;5;66;03m# row-wise access\u001b[39;00m\n\u001b[1;32m   1282\u001b[0m \u001b[38;5;66;03m# apply doesn't have a `na_action` keyword and for backward compat reasons\u001b[39;00m\n\u001b[1;32m   1283\u001b[0m \u001b[38;5;66;03m# we need to give `na_action=\"ignore\"` for categorical data.\u001b[39;00m\n\u001b[1;32m   1284\u001b[0m \u001b[38;5;66;03m# TODO: remove the `na_action=\"ignore\"` when that default has been changed in\u001b[39;00m\n\u001b[1;32m   1285\u001b[0m \u001b[38;5;66;03m#  Categorical (GH51645).\u001b[39;00m\n\u001b[1;32m   1286\u001b[0m action \u001b[38;5;241m=\u001b[39m \u001b[38;5;124m\"\u001b[39m\u001b[38;5;124mignore\u001b[39m\u001b[38;5;124m\"\u001b[39m \u001b[38;5;28;01mif\u001b[39;00m \u001b[38;5;28misinstance\u001b[39m(obj\u001b[38;5;241m.\u001b[39mdtype, CategoricalDtype) \u001b[38;5;28;01melse\u001b[39;00m \u001b[38;5;28;01mNone\u001b[39;00m\n\u001b[0;32m-> 1287\u001b[0m mapped \u001b[38;5;241m=\u001b[39m \u001b[43mobj\u001b[49m\u001b[38;5;241;43m.\u001b[39;49m\u001b[43m_map_values\u001b[49m\u001b[43m(\u001b[49m\n\u001b[1;32m   1288\u001b[0m \u001b[43m    \u001b[49m\u001b[43mmapper\u001b[49m\u001b[38;5;241;43m=\u001b[39;49m\u001b[43mcurried\u001b[49m\u001b[43m,\u001b[49m\u001b[43m \u001b[49m\u001b[43mna_action\u001b[49m\u001b[38;5;241;43m=\u001b[39;49m\u001b[43maction\u001b[49m\u001b[43m,\u001b[49m\u001b[43m \u001b[49m\u001b[43mconvert\u001b[49m\u001b[38;5;241;43m=\u001b[39;49m\u001b[38;5;28;43mself\u001b[39;49m\u001b[38;5;241;43m.\u001b[39;49m\u001b[43mconvert_dtype\u001b[49m\n\u001b[1;32m   1289\u001b[0m \u001b[43m\u001b[49m\u001b[43m)\u001b[49m\n\u001b[1;32m   1291\u001b[0m \u001b[38;5;28;01mif\u001b[39;00m \u001b[38;5;28mlen\u001b[39m(mapped) \u001b[38;5;129;01mand\u001b[39;00m \u001b[38;5;28misinstance\u001b[39m(mapped[\u001b[38;5;241m0\u001b[39m], ABCSeries):\n\u001b[1;32m   1292\u001b[0m     \u001b[38;5;66;03m# GH#43986 Need to do list(mapped) in order to get treated as nested\u001b[39;00m\n\u001b[1;32m   1293\u001b[0m     \u001b[38;5;66;03m#  See also GH#25959 regarding EA support\u001b[39;00m\n\u001b[1;32m   1294\u001b[0m     \u001b[38;5;28;01mreturn\u001b[39;00m obj\u001b[38;5;241m.\u001b[39m_constructor_expanddim(\u001b[38;5;28mlist\u001b[39m(mapped), index\u001b[38;5;241m=\u001b[39mobj\u001b[38;5;241m.\u001b[39mindex)\n",
      "File \u001b[0;32m~/Library/Python/3.9/lib/python/site-packages/pandas/core/base.py:921\u001b[0m, in \u001b[0;36mIndexOpsMixin._map_values\u001b[0;34m(self, mapper, na_action, convert)\u001b[0m\n\u001b[1;32m    918\u001b[0m \u001b[38;5;28;01mif\u001b[39;00m \u001b[38;5;28misinstance\u001b[39m(arr, ExtensionArray):\n\u001b[1;32m    919\u001b[0m     \u001b[38;5;28;01mreturn\u001b[39;00m arr\u001b[38;5;241m.\u001b[39mmap(mapper, na_action\u001b[38;5;241m=\u001b[39mna_action)\n\u001b[0;32m--> 921\u001b[0m \u001b[38;5;28;01mreturn\u001b[39;00m \u001b[43malgorithms\u001b[49m\u001b[38;5;241;43m.\u001b[39;49m\u001b[43mmap_array\u001b[49m\u001b[43m(\u001b[49m\u001b[43marr\u001b[49m\u001b[43m,\u001b[49m\u001b[43m \u001b[49m\u001b[43mmapper\u001b[49m\u001b[43m,\u001b[49m\u001b[43m \u001b[49m\u001b[43mna_action\u001b[49m\u001b[38;5;241;43m=\u001b[39;49m\u001b[43mna_action\u001b[49m\u001b[43m,\u001b[49m\u001b[43m \u001b[49m\u001b[43mconvert\u001b[49m\u001b[38;5;241;43m=\u001b[39;49m\u001b[43mconvert\u001b[49m\u001b[43m)\u001b[49m\n",
      "File \u001b[0;32m~/Library/Python/3.9/lib/python/site-packages/pandas/core/algorithms.py:1814\u001b[0m, in \u001b[0;36mmap_array\u001b[0;34m(arr, mapper, na_action, convert)\u001b[0m\n\u001b[1;32m   1812\u001b[0m values \u001b[38;5;241m=\u001b[39m arr\u001b[38;5;241m.\u001b[39mastype(\u001b[38;5;28mobject\u001b[39m, copy\u001b[38;5;241m=\u001b[39m\u001b[38;5;28;01mFalse\u001b[39;00m)\n\u001b[1;32m   1813\u001b[0m \u001b[38;5;28;01mif\u001b[39;00m na_action \u001b[38;5;129;01mis\u001b[39;00m \u001b[38;5;28;01mNone\u001b[39;00m:\n\u001b[0;32m-> 1814\u001b[0m     \u001b[38;5;28;01mreturn\u001b[39;00m \u001b[43mlib\u001b[49m\u001b[38;5;241;43m.\u001b[39;49m\u001b[43mmap_infer\u001b[49m\u001b[43m(\u001b[49m\u001b[43mvalues\u001b[49m\u001b[43m,\u001b[49m\u001b[43m \u001b[49m\u001b[43mmapper\u001b[49m\u001b[43m,\u001b[49m\u001b[43m \u001b[49m\u001b[43mconvert\u001b[49m\u001b[38;5;241;43m=\u001b[39;49m\u001b[43mconvert\u001b[49m\u001b[43m)\u001b[49m\n\u001b[1;32m   1815\u001b[0m \u001b[38;5;28;01melse\u001b[39;00m:\n\u001b[1;32m   1816\u001b[0m     \u001b[38;5;28;01mreturn\u001b[39;00m lib\u001b[38;5;241m.\u001b[39mmap_infer_mask(\n\u001b[1;32m   1817\u001b[0m         values, mapper, mask\u001b[38;5;241m=\u001b[39misna(values)\u001b[38;5;241m.\u001b[39mview(np\u001b[38;5;241m.\u001b[39muint8), convert\u001b[38;5;241m=\u001b[39mconvert\n\u001b[1;32m   1818\u001b[0m     )\n",
      "File \u001b[0;32mlib.pyx:2920\u001b[0m, in \u001b[0;36mpandas._libs.lib.map_infer\u001b[0;34m()\u001b[0m\n",
      "Cell \u001b[0;32mIn[7], line 37\u001b[0m, in \u001b[0;36mextract_sentiment_scores\u001b[0;34m(sentiment_list)\u001b[0m\n\u001b[1;32m     35\u001b[0m \u001b[38;5;66;03m# Replace None with the mean of the list (ignoring None values)\u001b[39;00m\n\u001b[1;32m     36\u001b[0m \u001b[38;5;28;01mif\u001b[39;00m \u001b[38;5;28many\u001b[39m(score \u001b[38;5;129;01mis\u001b[39;00m \u001b[38;5;129;01mnot\u001b[39;00m \u001b[38;5;28;01mNone\u001b[39;00m \u001b[38;5;28;01mfor\u001b[39;00m score \u001b[38;5;129;01min\u001b[39;00m scores):\n\u001b[0;32m---> 37\u001b[0m     mean_value \u001b[38;5;241m=\u001b[39m \u001b[43mnp\u001b[49m\u001b[38;5;241;43m.\u001b[39;49m\u001b[43mnanmean\u001b[49m\u001b[43m(\u001b[49m\u001b[43m[\u001b[49m\u001b[43mscore\u001b[49m\u001b[43m \u001b[49m\u001b[38;5;28;43;01mfor\u001b[39;49;00m\u001b[43m \u001b[49m\u001b[43mscore\u001b[49m\u001b[43m \u001b[49m\u001b[38;5;129;43;01min\u001b[39;49;00m\u001b[43m \u001b[49m\u001b[43mscores\u001b[49m\u001b[43m \u001b[49m\u001b[38;5;28;43;01mif\u001b[39;49;00m\u001b[43m \u001b[49m\u001b[43mscore\u001b[49m\u001b[43m \u001b[49m\u001b[38;5;129;43;01mis\u001b[39;49;00m\u001b[43m \u001b[49m\u001b[38;5;129;43;01mnot\u001b[39;49;00m\u001b[43m \u001b[49m\u001b[38;5;28;43;01mNone\u001b[39;49;00m\u001b[43m]\u001b[49m\u001b[43m)\u001b[49m\n\u001b[1;32m     38\u001b[0m     scores \u001b[38;5;241m=\u001b[39m [score \u001b[38;5;28;01mif\u001b[39;00m score \u001b[38;5;129;01mis\u001b[39;00m \u001b[38;5;129;01mnot\u001b[39;00m \u001b[38;5;28;01mNone\u001b[39;00m \u001b[38;5;28;01melse\u001b[39;00m mean_value \u001b[38;5;28;01mfor\u001b[39;00m score \u001b[38;5;129;01min\u001b[39;00m scores]\n\u001b[1;32m     39\u001b[0m \u001b[38;5;28;01mreturn\u001b[39;00m scores\n",
      "File \u001b[0;32m<__array_function__ internals>:180\u001b[0m, in \u001b[0;36mnanmean\u001b[0;34m(*args, **kwargs)\u001b[0m\n",
      "File \u001b[0;32m~/Library/Python/3.9/lib/python/site-packages/numpy/lib/nanfunctions.py:1034\u001b[0m, in \u001b[0;36mnanmean\u001b[0;34m(a, axis, dtype, out, keepdims, where)\u001b[0m\n\u001b[1;32m   1032\u001b[0m arr, mask \u001b[38;5;241m=\u001b[39m _replace_nan(a, \u001b[38;5;241m0\u001b[39m)\n\u001b[1;32m   1033\u001b[0m \u001b[38;5;28;01mif\u001b[39;00m mask \u001b[38;5;129;01mis\u001b[39;00m \u001b[38;5;28;01mNone\u001b[39;00m:\n\u001b[0;32m-> 1034\u001b[0m     \u001b[38;5;28;01mreturn\u001b[39;00m \u001b[43mnp\u001b[49m\u001b[38;5;241;43m.\u001b[39;49m\u001b[43mmean\u001b[49m\u001b[43m(\u001b[49m\u001b[43marr\u001b[49m\u001b[43m,\u001b[49m\u001b[43m \u001b[49m\u001b[43maxis\u001b[49m\u001b[38;5;241;43m=\u001b[39;49m\u001b[43maxis\u001b[49m\u001b[43m,\u001b[49m\u001b[43m \u001b[49m\u001b[43mdtype\u001b[49m\u001b[38;5;241;43m=\u001b[39;49m\u001b[43mdtype\u001b[49m\u001b[43m,\u001b[49m\u001b[43m \u001b[49m\u001b[43mout\u001b[49m\u001b[38;5;241;43m=\u001b[39;49m\u001b[43mout\u001b[49m\u001b[43m,\u001b[49m\u001b[43m \u001b[49m\u001b[43mkeepdims\u001b[49m\u001b[38;5;241;43m=\u001b[39;49m\u001b[43mkeepdims\u001b[49m\u001b[43m,\u001b[49m\n\u001b[1;32m   1035\u001b[0m \u001b[43m                   \u001b[49m\u001b[43mwhere\u001b[49m\u001b[38;5;241;43m=\u001b[39;49m\u001b[43mwhere\u001b[49m\u001b[43m)\u001b[49m\n\u001b[1;32m   1037\u001b[0m \u001b[38;5;28;01mif\u001b[39;00m dtype \u001b[38;5;129;01mis\u001b[39;00m \u001b[38;5;129;01mnot\u001b[39;00m \u001b[38;5;28;01mNone\u001b[39;00m:\n\u001b[1;32m   1038\u001b[0m     dtype \u001b[38;5;241m=\u001b[39m np\u001b[38;5;241m.\u001b[39mdtype(dtype)\n",
      "File \u001b[0;32m<__array_function__ internals>:180\u001b[0m, in \u001b[0;36mmean\u001b[0;34m(*args, **kwargs)\u001b[0m\n",
      "File \u001b[0;32m~/Library/Python/3.9/lib/python/site-packages/numpy/core/fromnumeric.py:3432\u001b[0m, in \u001b[0;36mmean\u001b[0;34m(a, axis, dtype, out, keepdims, where)\u001b[0m\n\u001b[1;32m   3429\u001b[0m     \u001b[38;5;28;01melse\u001b[39;00m:\n\u001b[1;32m   3430\u001b[0m         \u001b[38;5;28;01mreturn\u001b[39;00m mean(axis\u001b[38;5;241m=\u001b[39maxis, dtype\u001b[38;5;241m=\u001b[39mdtype, out\u001b[38;5;241m=\u001b[39mout, \u001b[38;5;241m*\u001b[39m\u001b[38;5;241m*\u001b[39mkwargs)\n\u001b[0;32m-> 3432\u001b[0m \u001b[38;5;28;01mreturn\u001b[39;00m \u001b[43m_methods\u001b[49m\u001b[38;5;241;43m.\u001b[39;49m\u001b[43m_mean\u001b[49m\u001b[43m(\u001b[49m\u001b[43ma\u001b[49m\u001b[43m,\u001b[49m\u001b[43m \u001b[49m\u001b[43maxis\u001b[49m\u001b[38;5;241;43m=\u001b[39;49m\u001b[43maxis\u001b[49m\u001b[43m,\u001b[49m\u001b[43m \u001b[49m\u001b[43mdtype\u001b[49m\u001b[38;5;241;43m=\u001b[39;49m\u001b[43mdtype\u001b[49m\u001b[43m,\u001b[49m\n\u001b[1;32m   3433\u001b[0m \u001b[43m                      \u001b[49m\u001b[43mout\u001b[49m\u001b[38;5;241;43m=\u001b[39;49m\u001b[43mout\u001b[49m\u001b[43m,\u001b[49m\u001b[43m \u001b[49m\u001b[38;5;241;43m*\u001b[39;49m\u001b[38;5;241;43m*\u001b[39;49m\u001b[43mkwargs\u001b[49m\u001b[43m)\u001b[49m\n",
      "File \u001b[0;32m~/Library/Python/3.9/lib/python/site-packages/numpy/core/_methods.py:180\u001b[0m, in \u001b[0;36m_mean\u001b[0;34m(a, axis, dtype, out, keepdims, where)\u001b[0m\n\u001b[1;32m    177\u001b[0m         dtype \u001b[38;5;241m=\u001b[39m mu\u001b[38;5;241m.\u001b[39mdtype(\u001b[38;5;124m'\u001b[39m\u001b[38;5;124mf4\u001b[39m\u001b[38;5;124m'\u001b[39m)\n\u001b[1;32m    178\u001b[0m         is_float16_result \u001b[38;5;241m=\u001b[39m \u001b[38;5;28;01mTrue\u001b[39;00m\n\u001b[0;32m--> 180\u001b[0m ret \u001b[38;5;241m=\u001b[39m \u001b[43mumr_sum\u001b[49m\u001b[43m(\u001b[49m\u001b[43marr\u001b[49m\u001b[43m,\u001b[49m\u001b[43m \u001b[49m\u001b[43maxis\u001b[49m\u001b[43m,\u001b[49m\u001b[43m \u001b[49m\u001b[43mdtype\u001b[49m\u001b[43m,\u001b[49m\u001b[43m \u001b[49m\u001b[43mout\u001b[49m\u001b[43m,\u001b[49m\u001b[43m \u001b[49m\u001b[43mkeepdims\u001b[49m\u001b[43m,\u001b[49m\u001b[43m \u001b[49m\u001b[43mwhere\u001b[49m\u001b[38;5;241;43m=\u001b[39;49m\u001b[43mwhere\u001b[49m\u001b[43m)\u001b[49m\n\u001b[1;32m    181\u001b[0m \u001b[38;5;28;01mif\u001b[39;00m \u001b[38;5;28misinstance\u001b[39m(ret, mu\u001b[38;5;241m.\u001b[39mndarray):\n\u001b[1;32m    182\u001b[0m     ret \u001b[38;5;241m=\u001b[39m um\u001b[38;5;241m.\u001b[39mtrue_divide(\n\u001b[1;32m    183\u001b[0m             ret, rcount, out\u001b[38;5;241m=\u001b[39mret, casting\u001b[38;5;241m=\u001b[39m\u001b[38;5;124m'\u001b[39m\u001b[38;5;124munsafe\u001b[39m\u001b[38;5;124m'\u001b[39m, subok\u001b[38;5;241m=\u001b[39m\u001b[38;5;28;01mFalse\u001b[39;00m)\n",
      "\u001b[0;31mUFuncTypeError\u001b[0m: ufunc 'add' did not contain a loop with signature matching types (dtype('<U32'), dtype('<U32')) -> None"
     ]
    }
   ],
   "source": [
    "# import numpy as np\n",
    "# import seaborn as sns\n",
    "# import matplotlib.pyplot as plt\n",
    "\n",
    "# # Updated function to replace None with the mean of the list\n",
    "# def extract_sentiment_scores(sentiment_list):\n",
    "#     scores = []\n",
    "#     for item in sentiment_list:\n",
    "#         try:\n",
    "#             if 'sentiment_analysis' in item and 'sentiment_score' in item['sentiment_analysis']:\n",
    "#                 scores.append(item['sentiment_analysis']['sentiment_score'])\n",
    "#             elif 'sentiment_analysis' in item and 'overall_sentiment' in item['sentiment_analysis']:\n",
    "#                 scores.append(item['sentiment_analysis']['overall_sentiment'])\n",
    "#             elif 'sentiment_analysis' in item and 'score' in item['sentiment_analysis']:\n",
    "#                 scores.append(item['sentiment_analysis']['score'])\n",
    "#             elif 'sentiment' in item and 'subjectivity_confidence' in item['sentiment']:\n",
    "#                 scores.append(item['sentiment']['subjectivity_confidence'] * 10)\n",
    "#             elif 'sentiment' in item and 'score' in item['sentiment']:\n",
    "#                 scores.append(item['sentiment']['score'])\n",
    "#             elif 'sentiment' in item and 'positive' in item['sentiment']:\n",
    "#                 scores.append(item['sentiment']['positive'])\n",
    "#             elif 'sentiment' in item and 'overall' in item['sentiment']:\n",
    "#                 scores.append(item['sentiment']['overall'])\n",
    "#             elif 'sentiment' in item and 'sentiment_score' in item['sentiment']:\n",
    "#                 scores.append(item['sentiment']['sentiment_score'])\n",
    "#             elif 'sentiment_score' in item:\n",
    "#                 scores.append(item['sentiment_score'])\n",
    "#             elif 'sentiment' in item and 'overall_score' in item['sentiment']:\n",
    "#                 scores.append(float(item['sentiment']['overall_score']))\n",
    "#             else:\n",
    "#                 scores.append(None)  # Append None if no score is found\n",
    "#         except (KeyError, TypeError, ValueError):\n",
    "#             scores.append(None)  # Append None in case of any exception\n",
    "    \n",
    "#     # Replace None with the mean of the list (ignoring None values)\n",
    "#     if any(score is not None for score in scores):\n",
    "#         mean_value = np.nanmean([score for score in scores if score is not None])\n",
    "#         scores = [score if score is not None else mean_value for score in scores]\n",
    "#     return scores\n",
    "\n",
    "# # Apply the extraction function to the DataFrame\n",
    "# df['sentiment_scores'] = df['sentiment_iterate'].apply(extract_sentiment_scores)\n",
    "\n",
    "# # Convert the list elements to floats\n",
    "# def convert_list_to_float(score_list):\n",
    "#     return [float(score) for score in score_list]\n",
    "\n",
    "# # Apply the conversion to the entire column\n",
    "# df['sentiment_scores_number'] = df['sentiment_scores'].apply(convert_list_to_float)\n",
    "\n",
    "# # Calculate mean and std for each row, and scale by dividing by 10\n",
    "# df['openai_mean_sentiment'] = df['sentiment_scores_number'].apply(np.mean) / 10\n",
    "# df['std_sentiment'] = df['sentiment_scores_number'].apply(np.std) / 10\n",
    "\n",
    "# # Calculate overall mean and std\n",
    "# overall_mean = df['openai_mean_sentiment'].mean()\n",
    "# overall_std = df['std_sentiment'].mean()\n",
    "\n",
    "# print(f\"Overall Mean of sentiment scores: {overall_mean:.2f}\")\n",
    "# print(f\"Overall Standard Deviation of sentiment scores: {overall_std:.2f}\")\n",
    "\n",
    "# # If you want the std of all scores combined (not averaged per row)\n",
    "# all_scores = [score for scores in df['sentiment_scores'] for score in scores]\n",
    "# combined_std = np.std(all_scores) / 10\n",
    "# print(f\"Combined Standard Deviation of all scores: {combined_std:.2f}\")\n",
    "\n",
    "# # Function to compute z-scores and correlations\n",
    "# def compute_z_scores_and_correlations(df, columns):\n",
    "#     for column in columns:\n",
    "#         df[f'{column}_z'] = (df[column] - df[column].mean()) / df[column].std()\n",
    "        \n",
    "#     z_columns = [f'{col}_z' for col in columns]\n",
    "#     correlation_matrix = df[z_columns].corr()\n",
    "#     return df, correlation_matrix\n",
    "\n",
    "# # Define metrics to be analyzed\n",
    "# metrics = ['nltk_opinion_lexicon_net', 'vader_neg', \n",
    "#            'vader_neu', 'vader_pos', 'vader_compound', 'openai_mean_sentiment']\n",
    "\n",
    "# # Compute z-scores and correlation matrix\n",
    "# df, correlation_matrix = compute_z_scores_and_correlations(df, metrics)\n",
    "\n",
    "# # Plot the correlation matrix\n",
    "# plt.figure(figsize=(10, 8))\n",
    "# sns.heatmap(correlation_matrix, annot=True, cmap='coolwarm', center=0)\n",
    "# plt.title('Correlation Matrix of Sentiment Measures')\n",
    "# plt.show()\n",
    "\n",
    "# # Save high-resolution correlation matrix plot\n",
    "# plt.savefig(\"correlation_matrix.png\", dpi=300)\n",
    "# plt.savefig(\"correlation_matrix_corrplot.png\", dpi=300)\n"
   ]
  },
  {
   "cell_type": "code",
   "execution_count": 4,
   "metadata": {},
   "outputs": [
    {
     "ename": "TypeError",
     "evalue": "string indices must be integers",
     "output_type": "error",
     "traceback": [
      "\u001b[0;31m---------------------------------------------------------------------------\u001b[0m",
      "\u001b[0;31mTypeError\u001b[0m                                 Traceback (most recent call last)",
      "Cell \u001b[0;32mIn[4], line 2\u001b[0m\n\u001b[1;32m      1\u001b[0m \u001b[38;5;66;03m# Apply to the entire DataFrame\u001b[39;00m\n\u001b[0;32m----> 2\u001b[0m df[\u001b[38;5;124m'\u001b[39m\u001b[38;5;124msentiment_scores\u001b[39m\u001b[38;5;124m'\u001b[39m] \u001b[38;5;241m=\u001b[39m \u001b[43mdf\u001b[49m\u001b[43m[\u001b[49m\u001b[38;5;124;43m'\u001b[39;49m\u001b[38;5;124;43msentiment_iterate\u001b[39;49m\u001b[38;5;124;43m'\u001b[39;49m\u001b[43m]\u001b[49m\u001b[38;5;241;43m.\u001b[39;49m\u001b[43mapply\u001b[49m\u001b[43m(\u001b[49m\u001b[43mextract_sentiment_scores\u001b[49m\u001b[43m)\u001b[49m\n\u001b[1;32m      3\u001b[0m df[\u001b[38;5;124m'\u001b[39m\u001b[38;5;124msentiment_scores\u001b[39m\u001b[38;5;124m'\u001b[39m]\n",
      "File \u001b[0;32m~/Library/Python/3.9/lib/python/site-packages/pandas/core/series.py:4753\u001b[0m, in \u001b[0;36mSeries.apply\u001b[0;34m(self, func, convert_dtype, args, by_row, **kwargs)\u001b[0m\n\u001b[1;32m   4625\u001b[0m \u001b[38;5;28;01mdef\u001b[39;00m \u001b[38;5;21mapply\u001b[39m(\n\u001b[1;32m   4626\u001b[0m     \u001b[38;5;28mself\u001b[39m,\n\u001b[1;32m   4627\u001b[0m     func: AggFuncType,\n\u001b[0;32m   (...)\u001b[0m\n\u001b[1;32m   4632\u001b[0m     \u001b[38;5;241m*\u001b[39m\u001b[38;5;241m*\u001b[39mkwargs,\n\u001b[1;32m   4633\u001b[0m ) \u001b[38;5;241m-\u001b[39m\u001b[38;5;241m>\u001b[39m DataFrame \u001b[38;5;241m|\u001b[39m Series:\n\u001b[1;32m   4634\u001b[0m \u001b[38;5;250m    \u001b[39m\u001b[38;5;124;03m\"\"\"\u001b[39;00m\n\u001b[1;32m   4635\u001b[0m \u001b[38;5;124;03m    Invoke function on values of Series.\u001b[39;00m\n\u001b[1;32m   4636\u001b[0m \n\u001b[0;32m   (...)\u001b[0m\n\u001b[1;32m   4751\u001b[0m \u001b[38;5;124;03m    dtype: float64\u001b[39;00m\n\u001b[1;32m   4752\u001b[0m \u001b[38;5;124;03m    \"\"\"\u001b[39;00m\n\u001b[0;32m-> 4753\u001b[0m     \u001b[38;5;28;01mreturn\u001b[39;00m \u001b[43mSeriesApply\u001b[49m\u001b[43m(\u001b[49m\n\u001b[1;32m   4754\u001b[0m \u001b[43m        \u001b[49m\u001b[38;5;28;43mself\u001b[39;49m\u001b[43m,\u001b[49m\n\u001b[1;32m   4755\u001b[0m \u001b[43m        \u001b[49m\u001b[43mfunc\u001b[49m\u001b[43m,\u001b[49m\n\u001b[1;32m   4756\u001b[0m \u001b[43m        \u001b[49m\u001b[43mconvert_dtype\u001b[49m\u001b[38;5;241;43m=\u001b[39;49m\u001b[43mconvert_dtype\u001b[49m\u001b[43m,\u001b[49m\n\u001b[1;32m   4757\u001b[0m \u001b[43m        \u001b[49m\u001b[43mby_row\u001b[49m\u001b[38;5;241;43m=\u001b[39;49m\u001b[43mby_row\u001b[49m\u001b[43m,\u001b[49m\n\u001b[1;32m   4758\u001b[0m \u001b[43m        \u001b[49m\u001b[43margs\u001b[49m\u001b[38;5;241;43m=\u001b[39;49m\u001b[43margs\u001b[49m\u001b[43m,\u001b[49m\n\u001b[1;32m   4759\u001b[0m \u001b[43m        \u001b[49m\u001b[43mkwargs\u001b[49m\u001b[38;5;241;43m=\u001b[39;49m\u001b[43mkwargs\u001b[49m\u001b[43m,\u001b[49m\n\u001b[1;32m   4760\u001b[0m \u001b[43m    \u001b[49m\u001b[43m)\u001b[49m\u001b[38;5;241;43m.\u001b[39;49m\u001b[43mapply\u001b[49m\u001b[43m(\u001b[49m\u001b[43m)\u001b[49m\n",
      "File \u001b[0;32m~/Library/Python/3.9/lib/python/site-packages/pandas/core/apply.py:1207\u001b[0m, in \u001b[0;36mSeriesApply.apply\u001b[0;34m(self)\u001b[0m\n\u001b[1;32m   1204\u001b[0m     \u001b[38;5;28;01mreturn\u001b[39;00m \u001b[38;5;28mself\u001b[39m\u001b[38;5;241m.\u001b[39mapply_compat()\n\u001b[1;32m   1206\u001b[0m \u001b[38;5;66;03m# self.func is Callable\u001b[39;00m\n\u001b[0;32m-> 1207\u001b[0m \u001b[38;5;28;01mreturn\u001b[39;00m \u001b[38;5;28;43mself\u001b[39;49m\u001b[38;5;241;43m.\u001b[39;49m\u001b[43mapply_standard\u001b[49m\u001b[43m(\u001b[49m\u001b[43m)\u001b[49m\n",
      "File \u001b[0;32m~/Library/Python/3.9/lib/python/site-packages/pandas/core/apply.py:1287\u001b[0m, in \u001b[0;36mSeriesApply.apply_standard\u001b[0;34m(self)\u001b[0m\n\u001b[1;32m   1281\u001b[0m \u001b[38;5;66;03m# row-wise access\u001b[39;00m\n\u001b[1;32m   1282\u001b[0m \u001b[38;5;66;03m# apply doesn't have a `na_action` keyword and for backward compat reasons\u001b[39;00m\n\u001b[1;32m   1283\u001b[0m \u001b[38;5;66;03m# we need to give `na_action=\"ignore\"` for categorical data.\u001b[39;00m\n\u001b[1;32m   1284\u001b[0m \u001b[38;5;66;03m# TODO: remove the `na_action=\"ignore\"` when that default has been changed in\u001b[39;00m\n\u001b[1;32m   1285\u001b[0m \u001b[38;5;66;03m#  Categorical (GH51645).\u001b[39;00m\n\u001b[1;32m   1286\u001b[0m action \u001b[38;5;241m=\u001b[39m \u001b[38;5;124m\"\u001b[39m\u001b[38;5;124mignore\u001b[39m\u001b[38;5;124m\"\u001b[39m \u001b[38;5;28;01mif\u001b[39;00m \u001b[38;5;28misinstance\u001b[39m(obj\u001b[38;5;241m.\u001b[39mdtype, CategoricalDtype) \u001b[38;5;28;01melse\u001b[39;00m \u001b[38;5;28;01mNone\u001b[39;00m\n\u001b[0;32m-> 1287\u001b[0m mapped \u001b[38;5;241m=\u001b[39m \u001b[43mobj\u001b[49m\u001b[38;5;241;43m.\u001b[39;49m\u001b[43m_map_values\u001b[49m\u001b[43m(\u001b[49m\n\u001b[1;32m   1288\u001b[0m \u001b[43m    \u001b[49m\u001b[43mmapper\u001b[49m\u001b[38;5;241;43m=\u001b[39;49m\u001b[43mcurried\u001b[49m\u001b[43m,\u001b[49m\u001b[43m \u001b[49m\u001b[43mna_action\u001b[49m\u001b[38;5;241;43m=\u001b[39;49m\u001b[43maction\u001b[49m\u001b[43m,\u001b[49m\u001b[43m \u001b[49m\u001b[43mconvert\u001b[49m\u001b[38;5;241;43m=\u001b[39;49m\u001b[38;5;28;43mself\u001b[39;49m\u001b[38;5;241;43m.\u001b[39;49m\u001b[43mconvert_dtype\u001b[49m\n\u001b[1;32m   1289\u001b[0m \u001b[43m\u001b[49m\u001b[43m)\u001b[49m\n\u001b[1;32m   1291\u001b[0m \u001b[38;5;28;01mif\u001b[39;00m \u001b[38;5;28mlen\u001b[39m(mapped) \u001b[38;5;129;01mand\u001b[39;00m \u001b[38;5;28misinstance\u001b[39m(mapped[\u001b[38;5;241m0\u001b[39m], ABCSeries):\n\u001b[1;32m   1292\u001b[0m     \u001b[38;5;66;03m# GH#43986 Need to do list(mapped) in order to get treated as nested\u001b[39;00m\n\u001b[1;32m   1293\u001b[0m     \u001b[38;5;66;03m#  See also GH#25959 regarding EA support\u001b[39;00m\n\u001b[1;32m   1294\u001b[0m     \u001b[38;5;28;01mreturn\u001b[39;00m obj\u001b[38;5;241m.\u001b[39m_constructor_expanddim(\u001b[38;5;28mlist\u001b[39m(mapped), index\u001b[38;5;241m=\u001b[39mobj\u001b[38;5;241m.\u001b[39mindex)\n",
      "File \u001b[0;32m~/Library/Python/3.9/lib/python/site-packages/pandas/core/base.py:921\u001b[0m, in \u001b[0;36mIndexOpsMixin._map_values\u001b[0;34m(self, mapper, na_action, convert)\u001b[0m\n\u001b[1;32m    918\u001b[0m \u001b[38;5;28;01mif\u001b[39;00m \u001b[38;5;28misinstance\u001b[39m(arr, ExtensionArray):\n\u001b[1;32m    919\u001b[0m     \u001b[38;5;28;01mreturn\u001b[39;00m arr\u001b[38;5;241m.\u001b[39mmap(mapper, na_action\u001b[38;5;241m=\u001b[39mna_action)\n\u001b[0;32m--> 921\u001b[0m \u001b[38;5;28;01mreturn\u001b[39;00m \u001b[43malgorithms\u001b[49m\u001b[38;5;241;43m.\u001b[39;49m\u001b[43mmap_array\u001b[49m\u001b[43m(\u001b[49m\u001b[43marr\u001b[49m\u001b[43m,\u001b[49m\u001b[43m \u001b[49m\u001b[43mmapper\u001b[49m\u001b[43m,\u001b[49m\u001b[43m \u001b[49m\u001b[43mna_action\u001b[49m\u001b[38;5;241;43m=\u001b[39;49m\u001b[43mna_action\u001b[49m\u001b[43m,\u001b[49m\u001b[43m \u001b[49m\u001b[43mconvert\u001b[49m\u001b[38;5;241;43m=\u001b[39;49m\u001b[43mconvert\u001b[49m\u001b[43m)\u001b[49m\n",
      "File \u001b[0;32m~/Library/Python/3.9/lib/python/site-packages/pandas/core/algorithms.py:1814\u001b[0m, in \u001b[0;36mmap_array\u001b[0;34m(arr, mapper, na_action, convert)\u001b[0m\n\u001b[1;32m   1812\u001b[0m values \u001b[38;5;241m=\u001b[39m arr\u001b[38;5;241m.\u001b[39mastype(\u001b[38;5;28mobject\u001b[39m, copy\u001b[38;5;241m=\u001b[39m\u001b[38;5;28;01mFalse\u001b[39;00m)\n\u001b[1;32m   1813\u001b[0m \u001b[38;5;28;01mif\u001b[39;00m na_action \u001b[38;5;129;01mis\u001b[39;00m \u001b[38;5;28;01mNone\u001b[39;00m:\n\u001b[0;32m-> 1814\u001b[0m     \u001b[38;5;28;01mreturn\u001b[39;00m \u001b[43mlib\u001b[49m\u001b[38;5;241;43m.\u001b[39;49m\u001b[43mmap_infer\u001b[49m\u001b[43m(\u001b[49m\u001b[43mvalues\u001b[49m\u001b[43m,\u001b[49m\u001b[43m \u001b[49m\u001b[43mmapper\u001b[49m\u001b[43m,\u001b[49m\u001b[43m \u001b[49m\u001b[43mconvert\u001b[49m\u001b[38;5;241;43m=\u001b[39;49m\u001b[43mconvert\u001b[49m\u001b[43m)\u001b[49m\n\u001b[1;32m   1815\u001b[0m \u001b[38;5;28;01melse\u001b[39;00m:\n\u001b[1;32m   1816\u001b[0m     \u001b[38;5;28;01mreturn\u001b[39;00m lib\u001b[38;5;241m.\u001b[39mmap_infer_mask(\n\u001b[1;32m   1817\u001b[0m         values, mapper, mask\u001b[38;5;241m=\u001b[39misna(values)\u001b[38;5;241m.\u001b[39mview(np\u001b[38;5;241m.\u001b[39muint8), convert\u001b[38;5;241m=\u001b[39mconvert\n\u001b[1;32m   1818\u001b[0m     )\n",
      "File \u001b[0;32mlib.pyx:2920\u001b[0m, in \u001b[0;36mpandas._libs.lib.map_infer\u001b[0;34m()\u001b[0m\n",
      "Cell \u001b[0;32mIn[1], line 75\u001b[0m, in \u001b[0;36mextract_sentiment_scores\u001b[0;34m(sentiment_list)\u001b[0m\n\u001b[1;32m     73\u001b[0m     scores\u001b[38;5;241m.\u001b[39mappend(item[\u001b[38;5;124m'\u001b[39m\u001b[38;5;124msentiment\u001b[39m\u001b[38;5;124m'\u001b[39m][\u001b[38;5;124m'\u001b[39m\u001b[38;5;124mscore\u001b[39m\u001b[38;5;124m'\u001b[39m])\n\u001b[1;32m     74\u001b[0m \u001b[38;5;28;01melif\u001b[39;00m \u001b[38;5;124m'\u001b[39m\u001b[38;5;124msentiment\u001b[39m\u001b[38;5;124m'\u001b[39m \u001b[38;5;129;01min\u001b[39;00m item \u001b[38;5;129;01mand\u001b[39;00m \u001b[38;5;124m'\u001b[39m\u001b[38;5;124mpositive\u001b[39m\u001b[38;5;124m'\u001b[39m \u001b[38;5;129;01min\u001b[39;00m item[\u001b[38;5;124m'\u001b[39m\u001b[38;5;124msentiment\u001b[39m\u001b[38;5;124m'\u001b[39m]:\n\u001b[0;32m---> 75\u001b[0m     scores\u001b[38;5;241m.\u001b[39mappend(\u001b[43mitem\u001b[49m\u001b[43m[\u001b[49m\u001b[38;5;124;43m'\u001b[39;49m\u001b[38;5;124;43msentiment\u001b[39;49m\u001b[38;5;124;43m'\u001b[39;49m\u001b[43m]\u001b[49m\u001b[43m[\u001b[49m\u001b[38;5;124;43m'\u001b[39;49m\u001b[38;5;124;43mpositive\u001b[39;49m\u001b[38;5;124;43m'\u001b[39;49m\u001b[43m]\u001b[49m)\n\u001b[1;32m     76\u001b[0m \u001b[38;5;28;01melif\u001b[39;00m \u001b[38;5;124m'\u001b[39m\u001b[38;5;124msentiment\u001b[39m\u001b[38;5;124m'\u001b[39m \u001b[38;5;129;01min\u001b[39;00m item \u001b[38;5;129;01mand\u001b[39;00m \u001b[38;5;124m'\u001b[39m\u001b[38;5;124moverall\u001b[39m\u001b[38;5;124m'\u001b[39m \u001b[38;5;129;01min\u001b[39;00m item[\u001b[38;5;124m'\u001b[39m\u001b[38;5;124msentiment\u001b[39m\u001b[38;5;124m'\u001b[39m]:\n\u001b[1;32m     77\u001b[0m     scores\u001b[38;5;241m.\u001b[39mappend(item[\u001b[38;5;124m'\u001b[39m\u001b[38;5;124msentiment\u001b[39m\u001b[38;5;124m'\u001b[39m][\u001b[38;5;124m'\u001b[39m\u001b[38;5;124moverall\u001b[39m\u001b[38;5;124m'\u001b[39m])\n",
      "\u001b[0;31mTypeError\u001b[0m: string indices must be integers"
     ]
    }
   ],
   "source": [
    "# # Apply to the entire DataFrame\n",
    "# df['sentiment_scores'] = df['sentiment_iterate'].apply(extract_sentiment_scores)\n",
    "# df['sentiment_scores']"
   ]
  },
  {
   "cell_type": "code",
   "execution_count": 2,
   "metadata": {},
   "outputs": [
    {
     "data": {
      "text/plain": [
       "0     [{'sentiment_analysis': {'text': 'And that com...\n",
       "1     [{'sentiment_analysis': {'text': 'comes right ...\n",
       "2     [{'sentiment_analysis': {'text': 'Take a look ...\n",
       "3     [{'sentiment_analysis': {'text': 'So that arro...\n",
       "4     [{'sentiment_analysis': {'text': 'of illegal i...\n",
       "5     [{'text': 'into our country.', 'sentiment': {'...\n",
       "6     [{'sentiment_analysis': {'text': 'And then, an...\n",
       "7     [{'sentiment_analysis': {'text': 'in the histo...\n",
       "8     [{'text': 'And look what happened to our count...\n",
       "9     [{'sentiment_analysis': {'text': 'Probably 20 ...\n",
       "10    [{'text': 'And, you know, that's a little bit ...\n",
       "11    [{'text': 'That chart's a couple of months old...\n",
       "12    [{'sentiment_analysis': {'text': 'And if you w...\n",
       "13    [{'sentiment_analysis': {'text': 'take a look ...\n",
       "14    [{'sentiment_analysis': {'text': 'Okay', 'scor...\n",
       "15    [{'text': 'We are watching live at a rally in ...\n",
       "16    [{'sentiment_analysis': {'text': 'Former Presi...\n",
       "17    [{'sentiment_analysis': {'text': 'There has be...\n",
       "18    [{'sentiment_analysis': {'text': 'that clearly...\n",
       "19    [{'sentiment_analysis': {'text': 'Secret Servi...\n",
       "20    [{'sentiment_analysis': {'text': 'Immediately ...\n",
       "21    [{'sentiment_analysis': {'text': 'Your text he...\n",
       "22    [{'text': 'The crowd has been screaming.', 'se...\n",
       "23    [{'text': 'They are standing by.', 'sentiment_...\n",
       "24    [{'sentiment_analysis': {'text': 'You can hear...\n",
       "25    [{'sentiment_analysis': {'text': 'Are we ready...\n",
       "26    [{'text': 'We are looking at President Trump.'...\n",
       "27    [{'text': 'This does not look good.', 'sentime...\n",
       "28    [{'sentiment_analysis': {'text': 'I'm going to...\n",
       "29    [{'sentiment_analysis': {'text': 'From what we...\n",
       "30    [{'sentiment_analysis': {'text': 'it looks lik...\n",
       "31    [{'sentiment_analysis': {'text': 'that he may ...\n",
       "32    [{'text': 'He is holding up his arm.', 'sentim...\n",
       "33    [{'text': 'He is pumping his fist.', 'sentimen...\n",
       "34    [{'sentiment_analysis': {'text': 'But clearly,...\n",
       "35    [{'text': 'wants to get him out of this situat...\n",
       "Name: sentiment_iterate, dtype: object"
      ]
     },
     "execution_count": 2,
     "metadata": {},
     "output_type": "execute_result"
    }
   ],
   "source": [
    "df['sentiment_iterate'] "
   ]
  },
  {
   "cell_type": "code",
   "execution_count": 3,
   "metadata": {},
   "outputs": [
    {
     "data": {
      "text/plain": [
       "[{'sentiment_analysis': {'text': 'And that comes right from the government services',\n",
       "   'sentiment_score': 7}},\n",
       " {'sentiment_analysis': {'text': 'And that comes right from the government services',\n",
       "   'sentiment_score': 6}},\n",
       " {'sentiment_analysis': {'text': 'And that comes right from the government services',\n",
       "   'sentiment_score': 6.8,\n",
       "   'sentiment': 'Neutral'}},\n",
       " {'sentiment_analysis': {'text': 'And that comes right from the government services',\n",
       "   'sentiment_score': 5}},\n",
       " {'sentiment_analysis': {'text': 'And that comes right from the government services',\n",
       "   'sentiment_score': 7.5,\n",
       "   'sentiment_label': 'Positive'}}]"
      ]
     },
     "execution_count": 3,
     "metadata": {},
     "output_type": "execute_result"
    }
   ],
   "source": [
    "df['sentiment_iterate'][0]"
   ]
  },
  {
   "cell_type": "code",
   "execution_count": 10,
   "metadata": {},
   "outputs": [
    {
     "name": "stdout",
     "output_type": "stream",
     "text": [
      "Overall Mean of sentiment scores: 0.51\n",
      "Overall Standard Deviation of sentiment scores: 0.11\n",
      "Combined Standard Deviation of all scores: 0.29\n"
     ]
    },
    {
     "data": {
      "image/png": "[encoded data removed]",
      "text/plain": [
       "<Figure size 1000x800 with 2 Axes>"
      ]
     },
     "metadata": {},
     "output_type": "display_data"
    },
    {
     "data": {
      "text/plain": [
       "<Figure size 640x480 with 0 Axes>"
      ]
     },
     "metadata": {},
     "output_type": "display_data"
    }
   ],
   "source": [
    "import numpy as np\n",
    "import seaborn as sns\n",
    "import matplotlib.pyplot as plt\n",
    "\n",
    "# Function to convert the list to floats, ignoring None and non-integer/float values\n",
    "def convert_list_to_float(score_list):\n",
    "    return [float(score) for score in score_list if isinstance(score, (int, float)) and not np.isnan(score)]\n",
    "\n",
    "# Apply the conversion to the entire column\n",
    "df['sentiment_scores_number'] = df['sentiment_scores'].apply(convert_list_to_float)\n",
    "\n",
    "# Calculate mean and std for each row, ignoring empty lists\n",
    "df['openai_mean_sentiment'] = df['sentiment_scores_number'].apply(lambda x: np.mean(x) if x else None) / 10\n",
    "df['std_sentiment'] = df['sentiment_scores_number'].apply(lambda x: np.std(x) if x else None) / 10\n",
    "\n",
    "# Calculate overall mean and std (ignoring None in the DataFrame)\n",
    "overall_mean = df['openai_mean_sentiment'].mean()\n",
    "overall_std = df['std_sentiment'].mean()\n",
    "\n",
    "print(f\"Overall Mean of sentiment scores: {overall_mean:.2f}\")\n",
    "print(f\"Overall Standard Deviation of sentiment scores: {overall_std:.2f}\")\n",
    "\n",
    "# If you want the std of all scores combined (not averaged per row)\n",
    "all_scores = [score for scores in df['sentiment_scores_number'] for score in scores]\n",
    "combined_std = np.std(all_scores) / 10\n",
    "print(f\"Combined Standard Deviation of all scores: {combined_std:.2f}\")\n",
    "\n",
    "# Function to compute z-scores and correlations\n",
    "def compute_z_scores_and_correlations(df, columns):\n",
    "    for column in columns:\n",
    "        df[f'{column}_z'] = (df[column] - df[column].mean()) / df[column].std()\n",
    "        \n",
    "    z_columns = [f'{col}_z' for col in columns]\n",
    "    correlation_matrix = df[z_columns].corr()\n",
    "    return df, correlation_matrix\n",
    "\n",
    "# Define metrics to be analyzed\n",
    "metrics = ['nltk_opinion_lexicon_net', 'vader_neg', \n",
    "           'vader_neu', 'vader_pos', 'vader_compound', 'openai_mean_sentiment']\n",
    "\n",
    "# Compute z-scores and correlation matrix\n",
    "df, correlation_matrix = compute_z_scores_and_correlations(df, metrics)\n",
    "\n",
    "# Plot the correlation matrix\n",
    "plt.figure(figsize=(10, 8))\n",
    "sns.heatmap(correlation_matrix, annot=True, cmap='coolwarm', center=0)\n",
    "plt.title('Correlation Matrix of Sentiment Measures')\n",
    "plt.show()\n",
    "\n",
    "# Save high-resolution correlation matrix plot\n",
    "plt.savefig(\"correlation_matrix.png\", dpi=300)\n",
    "plt.savefig(\"correlation_matrix_corrplot.png\", dpi=300)\n"
   ]
  },
  {
   "cell_type": "code",
   "execution_count": 11,
   "metadata": {},
   "outputs": [],
   "source": [
    "df.to_csv('final_data.csv')"
   ]
  },
  {
   "cell_type": "code",
   "execution_count": 9,
   "metadata": {},
   "outputs": [
    {
     "ename": "ValueError",
     "evalue": "could not convert string to float: 'neutral'",
     "output_type": "error",
     "traceback": [
      "\u001b[0;31m---------------------------------------------------------------------------\u001b[0m",
      "\u001b[0;31mValueError\u001b[0m                                Traceback (most recent call last)",
      "Cell \u001b[0;32mIn[9], line 10\u001b[0m\n\u001b[1;32m      7\u001b[0m     \u001b[38;5;28;01mreturn\u001b[39;00m [\u001b[38;5;28mfloat\u001b[39m(score) \u001b[38;5;28;01mfor\u001b[39;00m score \u001b[38;5;129;01min\u001b[39;00m score_list \u001b[38;5;28;01mif\u001b[39;00m score \u001b[38;5;129;01mis\u001b[39;00m \u001b[38;5;129;01mnot\u001b[39;00m \u001b[38;5;28;01mNone\u001b[39;00m]\n\u001b[1;32m      9\u001b[0m \u001b[38;5;66;03m# Apply the conversion to the entire column\u001b[39;00m\n\u001b[0;32m---> 10\u001b[0m df[\u001b[38;5;124m'\u001b[39m\u001b[38;5;124msentiment_scores_number\u001b[39m\u001b[38;5;124m'\u001b[39m] \u001b[38;5;241m=\u001b[39m \u001b[43mdf\u001b[49m\u001b[43m[\u001b[49m\u001b[38;5;124;43m'\u001b[39;49m\u001b[38;5;124;43msentiment_scores\u001b[39;49m\u001b[38;5;124;43m'\u001b[39;49m\u001b[43m]\u001b[49m\u001b[38;5;241;43m.\u001b[39;49m\u001b[43mapply\u001b[49m\u001b[43m(\u001b[49m\u001b[43mconvert_list_to_float\u001b[49m\u001b[43m)\u001b[49m\n\u001b[1;32m     12\u001b[0m \u001b[38;5;66;03m# Calculate mean and std for each row (ignoring None)\u001b[39;00m\n\u001b[1;32m     13\u001b[0m df[\u001b[38;5;124m'\u001b[39m\u001b[38;5;124mopenai_mean_sentiment\u001b[39m\u001b[38;5;124m'\u001b[39m] \u001b[38;5;241m=\u001b[39m df[\u001b[38;5;124m'\u001b[39m\u001b[38;5;124msentiment_scores_number\u001b[39m\u001b[38;5;124m'\u001b[39m]\u001b[38;5;241m.\u001b[39mapply(\u001b[38;5;28;01mlambda\u001b[39;00m x: np\u001b[38;5;241m.\u001b[39mmean(x) \u001b[38;5;28;01mif\u001b[39;00m x \u001b[38;5;28;01melse\u001b[39;00m \u001b[38;5;28;01mNone\u001b[39;00m) \u001b[38;5;241m/\u001b[39m \u001b[38;5;241m10\u001b[39m\n",
      "File \u001b[0;32m~/Library/Python/3.9/lib/python/site-packages/pandas/core/series.py:4753\u001b[0m, in \u001b[0;36mSeries.apply\u001b[0;34m(self, func, convert_dtype, args, by_row, **kwargs)\u001b[0m\n\u001b[1;32m   4625\u001b[0m \u001b[38;5;28;01mdef\u001b[39;00m \u001b[38;5;21mapply\u001b[39m(\n\u001b[1;32m   4626\u001b[0m     \u001b[38;5;28mself\u001b[39m,\n\u001b[1;32m   4627\u001b[0m     func: AggFuncType,\n\u001b[0;32m   (...)\u001b[0m\n\u001b[1;32m   4632\u001b[0m     \u001b[38;5;241m*\u001b[39m\u001b[38;5;241m*\u001b[39mkwargs,\n\u001b[1;32m   4633\u001b[0m ) \u001b[38;5;241m-\u001b[39m\u001b[38;5;241m>\u001b[39m DataFrame \u001b[38;5;241m|\u001b[39m Series:\n\u001b[1;32m   4634\u001b[0m \u001b[38;5;250m    \u001b[39m\u001b[38;5;124;03m\"\"\"\u001b[39;00m\n\u001b[1;32m   4635\u001b[0m \u001b[38;5;124;03m    Invoke function on values of Series.\u001b[39;00m\n\u001b[1;32m   4636\u001b[0m \n\u001b[0;32m   (...)\u001b[0m\n\u001b[1;32m   4751\u001b[0m \u001b[38;5;124;03m    dtype: float64\u001b[39;00m\n\u001b[1;32m   4752\u001b[0m \u001b[38;5;124;03m    \"\"\"\u001b[39;00m\n\u001b[0;32m-> 4753\u001b[0m     \u001b[38;5;28;01mreturn\u001b[39;00m \u001b[43mSeriesApply\u001b[49m\u001b[43m(\u001b[49m\n\u001b[1;32m   4754\u001b[0m \u001b[43m        \u001b[49m\u001b[38;5;28;43mself\u001b[39;49m\u001b[43m,\u001b[49m\n\u001b[1;32m   4755\u001b[0m \u001b[43m        \u001b[49m\u001b[43mfunc\u001b[49m\u001b[43m,\u001b[49m\n\u001b[1;32m   4756\u001b[0m \u001b[43m        \u001b[49m\u001b[43mconvert_dtype\u001b[49m\u001b[38;5;241;43m=\u001b[39;49m\u001b[43mconvert_dtype\u001b[49m\u001b[43m,\u001b[49m\n\u001b[1;32m   4757\u001b[0m \u001b[43m        \u001b[49m\u001b[43mby_row\u001b[49m\u001b[38;5;241;43m=\u001b[39;49m\u001b[43mby_row\u001b[49m\u001b[43m,\u001b[49m\n\u001b[1;32m   4758\u001b[0m \u001b[43m        \u001b[49m\u001b[43margs\u001b[49m\u001b[38;5;241;43m=\u001b[39;49m\u001b[43margs\u001b[49m\u001b[43m,\u001b[49m\n\u001b[1;32m   4759\u001b[0m \u001b[43m        \u001b[49m\u001b[43mkwargs\u001b[49m\u001b[38;5;241;43m=\u001b[39;49m\u001b[43mkwargs\u001b[49m\u001b[43m,\u001b[49m\n\u001b[1;32m   4760\u001b[0m \u001b[43m    \u001b[49m\u001b[43m)\u001b[49m\u001b[38;5;241;43m.\u001b[39;49m\u001b[43mapply\u001b[49m\u001b[43m(\u001b[49m\u001b[43m)\u001b[49m\n",
      "File \u001b[0;32m~/Library/Python/3.9/lib/python/site-packages/pandas/core/apply.py:1207\u001b[0m, in \u001b[0;36mSeriesApply.apply\u001b[0;34m(self)\u001b[0m\n\u001b[1;32m   1204\u001b[0m     \u001b[38;5;28;01mreturn\u001b[39;00m \u001b[38;5;28mself\u001b[39m\u001b[38;5;241m.\u001b[39mapply_compat()\n\u001b[1;32m   1206\u001b[0m \u001b[38;5;66;03m# self.func is Callable\u001b[39;00m\n\u001b[0;32m-> 1207\u001b[0m \u001b[38;5;28;01mreturn\u001b[39;00m \u001b[38;5;28;43mself\u001b[39;49m\u001b[38;5;241;43m.\u001b[39;49m\u001b[43mapply_standard\u001b[49m\u001b[43m(\u001b[49m\u001b[43m)\u001b[49m\n",
      "File \u001b[0;32m~/Library/Python/3.9/lib/python/site-packages/pandas/core/apply.py:1287\u001b[0m, in \u001b[0;36mSeriesApply.apply_standard\u001b[0;34m(self)\u001b[0m\n\u001b[1;32m   1281\u001b[0m \u001b[38;5;66;03m# row-wise access\u001b[39;00m\n\u001b[1;32m   1282\u001b[0m \u001b[38;5;66;03m# apply doesn't have a `na_action` keyword and for backward compat reasons\u001b[39;00m\n\u001b[1;32m   1283\u001b[0m \u001b[38;5;66;03m# we need to give `na_action=\"ignore\"` for categorical data.\u001b[39;00m\n\u001b[1;32m   1284\u001b[0m \u001b[38;5;66;03m# TODO: remove the `na_action=\"ignore\"` when that default has been changed in\u001b[39;00m\n\u001b[1;32m   1285\u001b[0m \u001b[38;5;66;03m#  Categorical (GH51645).\u001b[39;00m\n\u001b[1;32m   1286\u001b[0m action \u001b[38;5;241m=\u001b[39m \u001b[38;5;124m\"\u001b[39m\u001b[38;5;124mignore\u001b[39m\u001b[38;5;124m\"\u001b[39m \u001b[38;5;28;01mif\u001b[39;00m \u001b[38;5;28misinstance\u001b[39m(obj\u001b[38;5;241m.\u001b[39mdtype, CategoricalDtype) \u001b[38;5;28;01melse\u001b[39;00m \u001b[38;5;28;01mNone\u001b[39;00m\n\u001b[0;32m-> 1287\u001b[0m mapped \u001b[38;5;241m=\u001b[39m \u001b[43mobj\u001b[49m\u001b[38;5;241;43m.\u001b[39;49m\u001b[43m_map_values\u001b[49m\u001b[43m(\u001b[49m\n\u001b[1;32m   1288\u001b[0m \u001b[43m    \u001b[49m\u001b[43mmapper\u001b[49m\u001b[38;5;241;43m=\u001b[39;49m\u001b[43mcurried\u001b[49m\u001b[43m,\u001b[49m\u001b[43m \u001b[49m\u001b[43mna_action\u001b[49m\u001b[38;5;241;43m=\u001b[39;49m\u001b[43maction\u001b[49m\u001b[43m,\u001b[49m\u001b[43m \u001b[49m\u001b[43mconvert\u001b[49m\u001b[38;5;241;43m=\u001b[39;49m\u001b[38;5;28;43mself\u001b[39;49m\u001b[38;5;241;43m.\u001b[39;49m\u001b[43mconvert_dtype\u001b[49m\n\u001b[1;32m   1289\u001b[0m \u001b[43m\u001b[49m\u001b[43m)\u001b[49m\n\u001b[1;32m   1291\u001b[0m \u001b[38;5;28;01mif\u001b[39;00m \u001b[38;5;28mlen\u001b[39m(mapped) \u001b[38;5;129;01mand\u001b[39;00m \u001b[38;5;28misinstance\u001b[39m(mapped[\u001b[38;5;241m0\u001b[39m], ABCSeries):\n\u001b[1;32m   1292\u001b[0m     \u001b[38;5;66;03m# GH#43986 Need to do list(mapped) in order to get treated as nested\u001b[39;00m\n\u001b[1;32m   1293\u001b[0m     \u001b[38;5;66;03m#  See also GH#25959 regarding EA support\u001b[39;00m\n\u001b[1;32m   1294\u001b[0m     \u001b[38;5;28;01mreturn\u001b[39;00m obj\u001b[38;5;241m.\u001b[39m_constructor_expanddim(\u001b[38;5;28mlist\u001b[39m(mapped), index\u001b[38;5;241m=\u001b[39mobj\u001b[38;5;241m.\u001b[39mindex)\n",
      "File \u001b[0;32m~/Library/Python/3.9/lib/python/site-packages/pandas/core/base.py:921\u001b[0m, in \u001b[0;36mIndexOpsMixin._map_values\u001b[0;34m(self, mapper, na_action, convert)\u001b[0m\n\u001b[1;32m    918\u001b[0m \u001b[38;5;28;01mif\u001b[39;00m \u001b[38;5;28misinstance\u001b[39m(arr, ExtensionArray):\n\u001b[1;32m    919\u001b[0m     \u001b[38;5;28;01mreturn\u001b[39;00m arr\u001b[38;5;241m.\u001b[39mmap(mapper, na_action\u001b[38;5;241m=\u001b[39mna_action)\n\u001b[0;32m--> 921\u001b[0m \u001b[38;5;28;01mreturn\u001b[39;00m \u001b[43malgorithms\u001b[49m\u001b[38;5;241;43m.\u001b[39;49m\u001b[43mmap_array\u001b[49m\u001b[43m(\u001b[49m\u001b[43marr\u001b[49m\u001b[43m,\u001b[49m\u001b[43m \u001b[49m\u001b[43mmapper\u001b[49m\u001b[43m,\u001b[49m\u001b[43m \u001b[49m\u001b[43mna_action\u001b[49m\u001b[38;5;241;43m=\u001b[39;49m\u001b[43mna_action\u001b[49m\u001b[43m,\u001b[49m\u001b[43m \u001b[49m\u001b[43mconvert\u001b[49m\u001b[38;5;241;43m=\u001b[39;49m\u001b[43mconvert\u001b[49m\u001b[43m)\u001b[49m\n",
      "File \u001b[0;32m~/Library/Python/3.9/lib/python/site-packages/pandas/core/algorithms.py:1814\u001b[0m, in \u001b[0;36mmap_array\u001b[0;34m(arr, mapper, na_action, convert)\u001b[0m\n\u001b[1;32m   1812\u001b[0m values \u001b[38;5;241m=\u001b[39m arr\u001b[38;5;241m.\u001b[39mastype(\u001b[38;5;28mobject\u001b[39m, copy\u001b[38;5;241m=\u001b[39m\u001b[38;5;28;01mFalse\u001b[39;00m)\n\u001b[1;32m   1813\u001b[0m \u001b[38;5;28;01mif\u001b[39;00m na_action \u001b[38;5;129;01mis\u001b[39;00m \u001b[38;5;28;01mNone\u001b[39;00m:\n\u001b[0;32m-> 1814\u001b[0m     \u001b[38;5;28;01mreturn\u001b[39;00m \u001b[43mlib\u001b[49m\u001b[38;5;241;43m.\u001b[39;49m\u001b[43mmap_infer\u001b[49m\u001b[43m(\u001b[49m\u001b[43mvalues\u001b[49m\u001b[43m,\u001b[49m\u001b[43m \u001b[49m\u001b[43mmapper\u001b[49m\u001b[43m,\u001b[49m\u001b[43m \u001b[49m\u001b[43mconvert\u001b[49m\u001b[38;5;241;43m=\u001b[39;49m\u001b[43mconvert\u001b[49m\u001b[43m)\u001b[49m\n\u001b[1;32m   1815\u001b[0m \u001b[38;5;28;01melse\u001b[39;00m:\n\u001b[1;32m   1816\u001b[0m     \u001b[38;5;28;01mreturn\u001b[39;00m lib\u001b[38;5;241m.\u001b[39mmap_infer_mask(\n\u001b[1;32m   1817\u001b[0m         values, mapper, mask\u001b[38;5;241m=\u001b[39misna(values)\u001b[38;5;241m.\u001b[39mview(np\u001b[38;5;241m.\u001b[39muint8), convert\u001b[38;5;241m=\u001b[39mconvert\n\u001b[1;32m   1818\u001b[0m     )\n",
      "File \u001b[0;32mlib.pyx:2920\u001b[0m, in \u001b[0;36mpandas._libs.lib.map_infer\u001b[0;34m()\u001b[0m\n",
      "Cell \u001b[0;32mIn[9], line 7\u001b[0m, in \u001b[0;36mconvert_list_to_float\u001b[0;34m(score_list)\u001b[0m\n\u001b[1;32m      6\u001b[0m \u001b[38;5;28;01mdef\u001b[39;00m \u001b[38;5;21mconvert_list_to_float\u001b[39m(score_list):\n\u001b[0;32m----> 7\u001b[0m     \u001b[38;5;28;01mreturn\u001b[39;00m [\u001b[38;5;28mfloat\u001b[39m(score) \u001b[38;5;28;01mfor\u001b[39;00m score \u001b[38;5;129;01min\u001b[39;00m score_list \u001b[38;5;28;01mif\u001b[39;00m score \u001b[38;5;129;01mis\u001b[39;00m \u001b[38;5;129;01mnot\u001b[39;00m \u001b[38;5;28;01mNone\u001b[39;00m]\n",
      "Cell \u001b[0;32mIn[9], line 7\u001b[0m, in \u001b[0;36m<listcomp>\u001b[0;34m(.0)\u001b[0m\n\u001b[1;32m      6\u001b[0m \u001b[38;5;28;01mdef\u001b[39;00m \u001b[38;5;21mconvert_list_to_float\u001b[39m(score_list):\n\u001b[0;32m----> 7\u001b[0m     \u001b[38;5;28;01mreturn\u001b[39;00m [\u001b[38;5;28;43mfloat\u001b[39;49m\u001b[43m(\u001b[49m\u001b[43mscore\u001b[49m\u001b[43m)\u001b[49m \u001b[38;5;28;01mfor\u001b[39;00m score \u001b[38;5;129;01min\u001b[39;00m score_list \u001b[38;5;28;01mif\u001b[39;00m score \u001b[38;5;129;01mis\u001b[39;00m \u001b[38;5;129;01mnot\u001b[39;00m \u001b[38;5;28;01mNone\u001b[39;00m]\n",
      "\u001b[0;31mValueError\u001b[0m: could not convert string to float: 'neutral'"
     ]
    }
   ],
   "source": [
    "import numpy as np\n",
    "import seaborn as sns\n",
    "import matplotlib.pyplot as plt\n",
    "\n",
    "# Function to convert the list to floats, ignoring None values\n",
    "def convert_list_to_float(score_list):\n",
    "    return [float(score) for score in score_list if score is not None]\n",
    "\n",
    "# Apply the conversion to the entire column\n",
    "df['sentiment_scores_number'] = df['sentiment_scores'].apply(convert_list_to_float)\n",
    "\n",
    "# Calculate mean and std for each row (ignoring None)\n",
    "df['openai_mean_sentiment'] = df['sentiment_scores_number'].apply(lambda x: np.mean(x) if x else None) / 10\n",
    "df['std_sentiment'] = df['sentiment_scores_number'].apply(lambda x: np.std(x) if x else None) / 10\n",
    "\n",
    "# Calculate overall mean and std (ignoring None in the DataFrame)\n",
    "overall_mean = df['openai_mean_sentiment'].mean()\n",
    "overall_std = df['std_sentiment'].mean()\n",
    "\n",
    "print(f\"Overall Mean of sentiment scores: {overall_mean:.2f}\")\n",
    "print(f\"Overall Standard Deviation of sentiment scores: {overall_std:.2f}\")\n",
    "\n",
    "# If you want the std of all scores combined (not averaged per row)\n",
    "all_scores = [score for scores in df['sentiment_scores_number'] for score in scores]\n",
    "combined_std = np.std(all_scores) / 10\n",
    "print(f\"Combined Standard Deviation of all scores: {combined_std:.2f}\")\n",
    "\n",
    "# Function to compute z-scores and correlations\n",
    "def compute_z_scores_and_correlations(df, columns):\n",
    "    for column in columns:\n",
    "        df[f'{column}_z'] = (df[column] - df[column].mean()) / df[column].std()\n",
    "        \n",
    "    z_columns = [f'{col}_z' for col in columns]\n",
    "    correlation_matrix = df[z_columns].corr()\n",
    "    return df, correlation_matrix\n",
    "\n",
    "# Define metrics to be analyzed\n",
    "metrics = ['nltk_opinion_lexicon_net', 'vader_neg', \n",
    "           'vader_neu', 'vader_pos', 'vader_compound', 'openai_mean_sentiment']\n",
    "\n",
    "# Compute z-scores and correlation matrix\n",
    "df, correlation_matrix = compute_z_scores_and_correlations(df, metrics)\n",
    "\n",
    "# Plot the correlation matrix\n",
    "plt.figure(figsize=(10, 8))\n",
    "sns.heatmap(correlation_matrix, annot=True, cmap='coolwarm', center=0)\n",
    "plt.title('Correlation Matrix of Sentiment Measures')\n",
    "plt.show()\n",
    "\n",
    "# Save high-resolution correlation matrix plot\n",
    "plt.savefig(\"correlation_matrix.png\", dpi=300)\n",
    "plt.savefig(\"correlation_matrix_corrplot.png\", dpi=300)\n"
   ]
  },
  {
   "cell_type": "code",
   "execution_count": 116,
   "metadata": {},
   "outputs": [
    {
     "name": "stdout",
     "output_type": "stream",
     "text": [
      "Overall Mean of sentiment scores: 0.67\n",
      "Overall Standard Deviation of sentiment scores: 0.06\n",
      "Combined Standard Deviation of all scores: 0.18\n"
     ]
    },
    {
     "data": {
      "image/png": "[encoded data removed]",
      "text/plain": [
       "<Figure size 1000x800 with 2 Axes>"
      ]
     },
     "metadata": {},
     "output_type": "display_data"
    },
    {
     "data": {
      "text/plain": [
       "<Figure size 640x480 with 0 Axes>"
      ]
     },
     "metadata": {},
     "output_type": "display_data"
    }
   ],
   "source": [
    "# Apply the conversion to the entire column\n",
    "df['sentiment_scores_number'] = df['sentiment_scores'].apply(convert_list_to_float)\n",
    "# Calculate mean and std for each row\n",
    "df['openai_mean_sentiment'] = df['sentiment_scores_number'].apply(np.mean)/10\n",
    "df['std_sentiment'] = df['sentiment_scores_number'].apply(np.std)/10\n",
    "\n",
    "# Calculate overall mean and std\n",
    "overall_mean = df['openai_mean_sentiment'].mean()\n",
    "overall_std = df['std_sentiment'].mean()\n",
    "\n",
    "print(f\"Overall Mean of sentiment scores: {overall_mean:.2f}\")\n",
    "print(f\"Overall Standard Deviation of sentiment scores: {overall_std:.2f}\")\n",
    "\n",
    "# If you want the std of all scores combined (not averaged per row)\n",
    "all_scores = [score for scores in df['sentiment_scores'] for score in scores]\n",
    "combined_std = np.std(all_scores)/10\n",
    "print(f\"Combined Standard Deviation of all scores: {combined_std:.2f}\")\n",
    "\n",
    "def compute_z_scores_and_correlations(df, columns):\n",
    "    for column in columns:\n",
    "        df[f'{column}_z'] = (df[column] - df[column].mean()) / df[column].std()\n",
    "        \n",
    "    z_columns = [f'{col}_z' for col in columns]\n",
    "    correlation_matrix = df[z_columns].corr()\n",
    "    return df, correlation_matrix\n",
    "\n",
    "metrics = ['nltk_opinion_lexicon_net', 'vader_neg', \n",
    "           'vader_neu', 'vader_pos', 'vader_compound','openai_mean_sentiment']\n",
    "\n",
    "df, correlation_matrix = compute_z_scores_and_correlations(df, metrics)\n",
    "\n",
    "plt.figure(figsize=(10, 8))\n",
    "sns.heatmap(correlation_matrix, annot=True, cmap='coolwarm', center=0)\n",
    "plt.title('Correlation Matrix of Sentiment Measures')\n",
    "plt.show()\n",
    "\n",
    "# Save high-resolution correlation matrix plot\n",
    "plt.savefig(\"correlation_matrix.png\", dpi=300)\n",
    "\n",
    "# Save corrplot\n",
    "plt.savefig(\"correlation_matrix_corrplot.png\", dpi=300)"
   ]
  },
  {
   "cell_type": "code",
   "execution_count": null,
   "metadata": {},
   "outputs": [],
   "source": [
    "df['sentiment_scores']"
   ]
  },
  {
   "cell_type": "code",
   "execution_count": 121,
   "metadata": {},
   "outputs": [],
   "source": [
    "df['error (%)'] = 100*df['std_sentiment']/df[\"openai_mean_sentiment\"]"
   ]
  },
  {
   "cell_type": "code",
   "execution_count": 122,
   "metadata": {},
   "outputs": [
    {
     "data": {
      "text/html": [
       "<div>\n",
       "<style scoped>\n",
       "    .dataframe tbody tr th:only-of-type {\n",
       "        vertical-align: middle;\n",
       "    }\n",
       "\n",
       "    .dataframe tbody tr th {\n",
       "        vertical-align: top;\n",
       "    }\n",
       "\n",
       "    .dataframe thead th {\n",
       "        text-align: right;\n",
       "    }\n",
       "</style>\n",
       "<table border=\"1\" class=\"dataframe\">\n",
       "  <thead>\n",
       "    <tr style=\"text-align: right;\">\n",
       "      <th></th>\n",
       "      <th>openai_mean_sentiment</th>\n",
       "      <th>std_sentiment</th>\n",
       "      <th>error (%)</th>\n",
       "    </tr>\n",
       "  </thead>\n",
       "  <tbody>\n",
       "    <tr>\n",
       "      <th>0</th>\n",
       "      <td>0.680</td>\n",
       "      <td>0.040000</td>\n",
       "      <td>5.882353</td>\n",
       "    </tr>\n",
       "    <tr>\n",
       "      <th>1</th>\n",
       "      <td>0.870</td>\n",
       "      <td>0.040000</td>\n",
       "      <td>4.597701</td>\n",
       "    </tr>\n",
       "    <tr>\n",
       "      <th>2</th>\n",
       "      <td>0.790</td>\n",
       "      <td>0.048990</td>\n",
       "      <td>6.201240</td>\n",
       "    </tr>\n",
       "    <tr>\n",
       "      <th>3</th>\n",
       "      <td>0.600</td>\n",
       "      <td>0.126491</td>\n",
       "      <td>21.081851</td>\n",
       "    </tr>\n",
       "    <tr>\n",
       "      <th>4</th>\n",
       "      <td>0.732</td>\n",
       "      <td>0.048332</td>\n",
       "      <td>6.602757</td>\n",
       "    </tr>\n",
       "    <tr>\n",
       "      <th>5</th>\n",
       "      <td>0.646</td>\n",
       "      <td>0.066813</td>\n",
       "      <td>10.342596</td>\n",
       "    </tr>\n",
       "    <tr>\n",
       "      <th>6</th>\n",
       "      <td>0.720</td>\n",
       "      <td>0.040000</td>\n",
       "      <td>5.555556</td>\n",
       "    </tr>\n",
       "    <tr>\n",
       "      <th>7</th>\n",
       "      <td>0.290</td>\n",
       "      <td>0.101980</td>\n",
       "      <td>35.165652</td>\n",
       "    </tr>\n",
       "  </tbody>\n",
       "</table>\n",
       "</div>"
      ],
      "text/plain": [
       "   openai_mean_sentiment  std_sentiment  error (%)\n",
       "0                  0.680       0.040000   5.882353\n",
       "1                  0.870       0.040000   4.597701\n",
       "2                  0.790       0.048990   6.201240\n",
       "3                  0.600       0.126491  21.081851\n",
       "4                  0.732       0.048332   6.602757\n",
       "5                  0.646       0.066813  10.342596\n",
       "6                  0.720       0.040000   5.555556\n",
       "7                  0.290       0.101980  35.165652"
      ]
     },
     "execution_count": 122,
     "metadata": {},
     "output_type": "execute_result"
    }
   ],
   "source": [
    "df[[\"openai_mean_sentiment\",'std_sentiment','error (%)']]"
   ]
  },
  {
   "cell_type": "code",
   "execution_count": null,
   "metadata": {},
   "outputs": [],
   "source": []
  },
  {
   "cell_type": "code",
   "execution_count": 105,
   "metadata": {},
   "outputs": [
    {
     "data": {
      "text/plain": [
       "0.876"
      ]
     },
     "execution_count": 105,
     "metadata": {},
     "output_type": "execute_result"
    }
   ],
   "source": [
    "df['sentiment_iterate'][2][1]['sentiment']['subjectivity_confidence']"
   ]
  },
  {
   "cell_type": "code",
   "execution_count": 106,
   "metadata": {},
   "outputs": [
    {
     "data": {
      "text/plain": [
       "1.876"
      ]
     },
     "execution_count": 106,
     "metadata": {},
     "output_type": "execute_result"
    }
   ],
   "source": [
    "df['sentiment_iterate'][2][1]['sentiment']['subjectivity_confidence'] + 1"
   ]
  },
  {
   "cell_type": "code",
   "execution_count": 93,
   "metadata": {},
   "outputs": [
    {
     "data": {
      "text/plain": [
       "0    [{'sentiment_analysis': {'text': 'So many of y...\n",
       "1    [{'sentiment_analysis': {'text': 'Donald Trump...\n",
       "2    [{'sentiment_analysis': {'text': 'I have agree...\n",
       "3    [{'sentiment_analysis': {'text': 'He agreed to...\n",
       "4    [{'sentiment_analysis': {'text': 'And I think ...\n",
       "5    [{'text': 'debate stage, and so I'm ready, let...\n",
       "Name: sentiment_iterate, dtype: object"
      ]
     },
     "execution_count": 93,
     "metadata": {},
     "output_type": "execute_result"
    }
   ],
   "source": [
    "df['sentiment_iterate']"
   ]
  },
  {
   "cell_type": "code",
   "execution_count": 64,
   "metadata": {},
   "outputs": [
    {
     "data": {
      "text/plain": [
       "[{'text': \"So many of you have been asking me about the debate, and I'll tell you I'm ready to debate\",\n",
       "  'sentiment_analysis': {'score': 7, 'sentiment': 'positive'}},\n",
       " {'sentiment_analysis': {'text': \"So many of you have been asking me about the debate, and I'll tell you I'm ready to debate\",\n",
       "   'sentiment_score': 7}},\n",
       " {'text': \"So many of you have been asking me about the debate, and I'll tell you I'm ready to debate\",\n",
       "  'sentiment_analysis': {'score': 7, 'sentiment': 'Positive'}},\n",
       " {'sentiment_analysis': {'text': \"So many of you have been asking me about the debate, and I'll tell you I'm ready to debate\",\n",
       "   'sentiment_score': 7}},\n",
       " {'text': \"So many of you have been asking me about the debate, and I'll tell you I'm ready to debate\",\n",
       "  'sentiment': {'overall': 7,\n",
       "   'details': {'positive': 2, 'negative': 1, 'neutral': 4}}}]"
      ]
     },
     "execution_count": 64,
     "metadata": {},
     "output_type": "execute_result"
    }
   ],
   "source": [
    "df['sentiment_iterate'][0]"
   ]
  },
  {
   "cell_type": "code",
   "execution_count": 65,
   "metadata": {},
   "outputs": [
    {
     "data": {
      "text/plain": [
       "[{'text': \"So many of you have been asking me about the debate, and I'll tell you I'm ready to debate\",\n",
       "  'sentiment_analysis': {'score': 7, 'sentiment': 'positive'}},\n",
       " {'sentiment_analysis': {'text': \"So many of you have been asking me about the debate, and I'll tell you I'm ready to debate\",\n",
       "   'sentiment_score': 7}},\n",
       " {'text': \"So many of you have been asking me about the debate, and I'll tell you I'm ready to debate\",\n",
       "  'sentiment_analysis': {'score': 7, 'sentiment': 'Positive'}},\n",
       " {'sentiment_analysis': {'text': \"So many of you have been asking me about the debate, and I'll tell you I'm ready to debate\",\n",
       "   'sentiment_score': 7}},\n",
       " {'text': \"So many of you have been asking me about the debate, and I'll tell you I'm ready to debate\",\n",
       "  'sentiment': {'overall': 7,\n",
       "   'details': {'positive': 2, 'negative': 1, 'neutral': 4}}}]"
      ]
     },
     "execution_count": 65,
     "metadata": {},
     "output_type": "execute_result"
    }
   ],
   "source": [
    "df['sentiment_iterate'][1]"
   ]
  },
  {
   "cell_type": "code",
   "execution_count": 96,
   "metadata": {},
   "outputs": [
    {
     "data": {
      "text/plain": [
       "[{'sentiment_analysis': {'text': 'I have agreed to the previously agreed upon September 10th debate.',\n",
       "   'sentiment_score': 8,\n",
       "   'sentiment': 'Positive'}},\n",
       " {'text': 'I have agreed to the previously agreed upon September 10th debate.',\n",
       "  'sentiment': {'polarity': 'positive',\n",
       "   'subjectivity': 'subjective',\n",
       "   'polarity_confidence': 0.987,\n",
       "   'subjectivity_confidence': 0.876}},\n",
       " {'text': 'I have agreed to the previously agreed upon September 10th debate.',\n",
       "  'sentiment_score': 7},\n",
       " {'text': 'I have agreed to the previously agreed upon September 10th debate.',\n",
       "  'sentiment': {'score': 7, 'sentiment': 'Positive'}},\n",
       " {'text': 'I have agreed to the previously agreed upon September 10th debate.',\n",
       "  'sentiment': {'score': 7}}]"
      ]
     },
     "execution_count": 96,
     "metadata": {},
     "output_type": "execute_result"
    }
   ],
   "source": [
    "df['sentiment_iterate'][2]"
   ]
  },
  {
   "cell_type": "code",
   "execution_count": 67,
   "metadata": {},
   "outputs": [
    {
     "data": {
      "text/plain": [
       "[{'sentiment_analysis': {'text': \"He agreed to that previously, now it appears he's backpedaling, but I'm ready.\",\n",
       "   'sentiment_score': 3}},\n",
       " {'sentiment_analysis': {'text': \"He agreed to that previously, now it appears he's backpedaling, but I'm ready.\",\n",
       "   'sentiment_score': 3}},\n",
       " {'sentiment_analysis': {'text': \"He agreed to that previously, now it appears he's backpedaling, but I'm ready.\",\n",
       "   'sentiment_score': 3.5,\n",
       "   'sentiment_label': 'Neutral'}},\n",
       " {'text': \"He agreed to that previously, now it appears he's backpedaling, but I'm ready.\",\n",
       "  'sentiment_analysis': {'overall_sentiment': 3,\n",
       "   'sentences': [{'text': 'He agreed to that previously,', 'sentiment': 5},\n",
       "    {'text': \"now it appears he's backpedaling,\", 'sentiment': 2},\n",
       "    {'text': \"but I'm ready.\", 'sentiment': 6}]}},\n",
       " {'sentiment_analysis': {'text': \"He agreed to that previously, now it appears he's backpedaling, but I'm ready.\",\n",
       "   'sentiment_score': 3.5,\n",
       "   'sentiment_label': 'Neutral'}}]"
      ]
     },
     "execution_count": 67,
     "metadata": {},
     "output_type": "execute_result"
    }
   ],
   "source": [
    "df['sentiment_iterate'][3]"
   ]
  },
  {
   "cell_type": "code",
   "execution_count": 68,
   "metadata": {},
   "outputs": [
    {
     "data": {
      "text/plain": [
       "[{'sentiment_analysis': {'text': 'And I think the voters deserve to see the split screen that exists in this race on a',\n",
       "   'sentiment_score': 6}},\n",
       " {'text': 'And I think the voters deserve to see the split screen that exists in this race on a',\n",
       "  'sentiment_score': 6.5,\n",
       "  'sentiment': 'Neutral'},\n",
       " {'sentiment_analysis': {'text': 'And I think the voters deserve to see the split screen that exists in this race on a',\n",
       "   'sentiment_score': 6.5,\n",
       "   'sentiment_label': 'Neutral'}},\n",
       " {'sentiment_analysis': {'text': 'And I think the voters deserve to see the split screen that exists in this race on a',\n",
       "   'sentiment_score': 5,\n",
       "   'sentiment': 'Neutral'}},\n",
       " {'sentiment_analysis': {'text': 'And I think the voters deserve to see the split screen that exists in this race on a',\n",
       "   'sentiment_score': 3,\n",
       "   'sentiment_label': 'Neutral'}}]"
      ]
     },
     "execution_count": 68,
     "metadata": {},
     "output_type": "execute_result"
    }
   ],
   "source": [
    "df['sentiment_iterate'][4]"
   ]
  },
  {
   "cell_type": "code",
   "execution_count": 69,
   "metadata": {},
   "outputs": [
    {
     "data": {
      "text/plain": [
       "[{'text': \"debate stage, and so I'm ready, let's go.\",\n",
       "  'sentiment': {'polarity': 'neutral', 'score': 5}},\n",
       " {'sentiment_analysis': {'text': \"debate stage, and so I'm ready, let's go.\",\n",
       "   'sentiment_score': 8}},\n",
       " {'text': \"debate stage, and so I'm ready, let's go.\",\n",
       "  'sentiment_analysis': {'score': 7.5, 'sentiment': 'Positive'}},\n",
       " {'sentiment_analysis': {'text': \"debate stage, and so I'm ready, let's go.\",\n",
       "   'sentiment_score': 7}},\n",
       " {'text': \"debate stage, and so I'm ready, let's go.\",\n",
       "  'sentiment_analysis': {'score': 7, 'sentiment': 'Positive'}}]"
      ]
     },
     "execution_count": 69,
     "metadata": {},
     "output_type": "execute_result"
    }
   ],
   "source": [
    "df['sentiment_iterate'][5]"
   ]
  },
  {
   "cell_type": "code",
   "execution_count": 71,
   "metadata": {},
   "outputs": [
    {
     "data": {
      "text/plain": [
       "[{'text': \"So many of you have been asking me about the debate, and I'll tell you I'm ready to debate\",\n",
       "  'sentiment_analysis': {'score': 7, 'sentiment': 'positive'}},\n",
       " {'sentiment_analysis': {'text': \"So many of you have been asking me about the debate, and I'll tell you I'm ready to debate\",\n",
       "   'sentiment_score': 7}},\n",
       " {'text': \"So many of you have been asking me about the debate, and I'll tell you I'm ready to debate\",\n",
       "  'sentiment_analysis': {'score': 7, 'sentiment': 'Positive'}},\n",
       " {'sentiment_analysis': {'text': \"So many of you have been asking me about the debate, and I'll tell you I'm ready to debate\",\n",
       "   'sentiment_score': 7}},\n",
       " {'text': \"So many of you have been asking me about the debate, and I'll tell you I'm ready to debate\",\n",
       "  'sentiment': {'overall': 7,\n",
       "   'details': {'positive': 2, 'negative': 1, 'neutral': 4}}}]"
      ]
     },
     "execution_count": 71,
     "metadata": {},
     "output_type": "execute_result"
    }
   ],
   "source": []
  },
  {
   "cell_type": "code",
   "execution_count": 80,
   "metadata": {},
   "outputs": [
    {
     "data": {
      "text/plain": [
       "7"
      ]
     },
     "execution_count": 80,
     "metadata": {},
     "output_type": "execute_result"
    }
   ],
   "source": [
    "df['sentiment_iterate'][1][0]['sentiment_analysis']['score']"
   ]
  },
  {
   "cell_type": "code",
   "execution_count": 91,
   "metadata": {},
   "outputs": [
    {
     "data": {
      "text/plain": [
       "0        [7, 7, 7, 7, 7]\n",
       "1    [3, 5, 4.5, 4.7, 3]\n",
       "2      [7, 7.5, 7, 7, 7]\n",
       "3    [3, 3, 3.5, 3, 3.5]\n",
       "4    [6, 6.5, 6.5, 5, 3]\n",
       "5      [5, 8, 7.5, 7, 7]\n",
       "Name: sentiment_scores, dtype: object"
      ]
     },
     "execution_count": 91,
     "metadata": {},
     "output_type": "execute_result"
    }
   ],
   "source": [
    "def extract_sentiment_scores(sentiment_list):\n",
    "    scores = []\n",
    "    for item in sentiment_list:\n",
    "        if 'sentiment_analysis' in item and 'sentiment_score' in item['sentiment_analysis']:\n",
    "            scores.append(item['sentiment_analysis']['sentiment_score'])\n",
    "        elif 'sentiment_analysis' in item and 'overall_sentiment' in item['sentiment_analysis']:\n",
    "            scores.append(item['sentiment_analysis']['overall_sentiment'])\n",
    "        elif 'sentiment_analysis' in item and 'score' in item['sentiment_analysis']:\n",
    "            scores.append(item['sentiment_analysis']['score'])\n",
    "        elif 'sentiment' in item and 'subjectivity' in item['sentiment']:\n",
    "            scores.append(item['sentiment']['subjectivity'])\n",
    "        elif 'sentiment' in item and 'score' in item['sentiment']:\n",
    "            scores.append(item['sentiment']['score'])\n",
    "        elif 'sentiment' in item and 'positive' in item['sentiment']:\n",
    "            scores.append(item['sentiment']['positive'])\n",
    "        elif 'sentiment' in item and 'overall' in item['sentiment']:\n",
    "            scores.append(item['sentiment']['overall'])\n",
    "        elif 'sentiment' in item and 'sentiment_score' in item['sentiment']:\n",
    "            scores.append(item['sentiment']['sentiment_score'])\n",
    "        elif 'sentiment_score' in item:\n",
    "            scores.append(item['sentiment_score'])\n",
    "        elif 'sentiment' in item and 'overall_score' in item['sentiment']:\n",
    "            scores.append(float(item['sentiment']['overall_score']))\n",
    "        else:\n",
    "            scores.append(None)  # Append None if no score is found\n",
    "    return scores\n",
    "    # return [item['sentiment_analysis']['sentiment_score'] for item in sentiment_list if 'sentiment_analysis' in item and 'sentiment_score' in item['sentiment_analysis']]\n",
    "df['sentiment_scores'] = df['sentiment_iterate'].apply(extract_sentiment_scores)\n",
    "df['sentiment_scores']"
   ]
  },
  {
   "cell_type": "code",
   "execution_count": 90,
   "metadata": {},
   "outputs": [
    {
     "data": {
      "text/plain": [
       "[{'sentiment_analysis': {'text': \"He agreed to that previously, now it appears he's backpedaling, but I'm ready.\",\n",
       "   'sentiment_score': 3}},\n",
       " {'sentiment_analysis': {'text': \"He agreed to that previously, now it appears he's backpedaling, but I'm ready.\",\n",
       "   'sentiment_score': 3}},\n",
       " {'sentiment_analysis': {'text': \"He agreed to that previously, now it appears he's backpedaling, but I'm ready.\",\n",
       "   'sentiment_score': 3.5,\n",
       "   'sentiment_label': 'Neutral'}},\n",
       " {'text': \"He agreed to that previously, now it appears he's backpedaling, but I'm ready.\",\n",
       "  'sentiment_analysis': {'overall_sentiment': 3,\n",
       "   'sentences': [{'text': 'He agreed to that previously,', 'sentiment': 5},\n",
       "    {'text': \"now it appears he's backpedaling,\", 'sentiment': 2},\n",
       "    {'text': \"but I'm ready.\", 'sentiment': 6}]}},\n",
       " {'sentiment_analysis': {'text': \"He agreed to that previously, now it appears he's backpedaling, but I'm ready.\",\n",
       "   'sentiment_score': 3.5,\n",
       "   'sentiment_label': 'Neutral'}}]"
      ]
     },
     "execution_count": 90,
     "metadata": {},
     "output_type": "execute_result"
    }
   ],
   "source": [
    "df['sentiment_iterate'][3]"
   ]
  },
  {
   "cell_type": "code",
   "execution_count": 72,
   "metadata": {},
   "outputs": [
    {
     "data": {
      "text/plain": [
       "0    [None, 7, None, 7, None]\n",
       "1     [3, None, 4.5, None, 3]\n",
       "2    [None, None, None, 7, 7]\n",
       "3      [3, 3, 3.5, None, 3.5]\n",
       "4         [6, 6.5, 6.5, 5, 3]\n",
       "5    [None, 8, None, 7, None]\n",
       "Name: sentiment_scores, dtype: object"
      ]
     },
     "execution_count": 72,
     "metadata": {},
     "output_type": "execute_result"
    }
   ],
   "source": [
    "df['sentiment_scores']"
   ]
  },
  {
   "cell_type": "code",
   "execution_count": null,
   "metadata": {},
   "outputs": [],
   "source": [
    "df.to_csv('final_analysis.csv')"
   ]
  },
  {
   "cell_type": "code",
   "execution_count": null,
   "metadata": {},
   "outputs": [],
   "source": []
  }
 ],
 "metadata": {
  "kernelspec": {
   "display_name": "Python 3",
   "language": "python",
   "name": "python3"
  },
  "language_info": {
   "codemirror_mode": {
    "name": "ipython",
    "version": 3
   },
   "file_extension": ".py",
   "mimetype": "text/x-python",
   "name": "python",
   "nbconvert_exporter": "python",
   "pygments_lexer": "ipython3",
   "version": "3.9.6"
  }
 },
 "nbformat": 4,
 "nbformat_minor": 2
}
